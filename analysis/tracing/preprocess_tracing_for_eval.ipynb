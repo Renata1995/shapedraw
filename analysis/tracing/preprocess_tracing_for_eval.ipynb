{
 "cells": [
  {
   "cell_type": "code",
   "execution_count": 2,
   "metadata": {},
   "outputs": [],
   "source": [
    "import torch as th\n",
    "\n",
    "import matplotlib.pyplot as plt\n",
    "import time\n",
    "\n",
    "import sys\n",
    "import os\n",
    "from __future__ import division\n",
    "import os\n",
    "import urllib, cStringIO\n",
    "import pymongo as pm ## first establish ssh tunnel to server where database is running\n",
    "import base64\n",
    "import numpy as np\n",
    "from numpy import *\n",
    "import PIL\n",
    "from PIL import Image\n",
    "import base64\n",
    "import matplotlib\n",
    "%matplotlib inline\n",
    "from matplotlib import pylab, mlab, pyplot\n",
    "from IPython.core.pylabtools import figsize, getfigs\n",
    "plt = pyplot\n",
    "import seaborn as sns\n",
    "sns.set_context('poster')\n",
    "sns.set_style('white')\n",
    "from matplotlib.path import Path\n",
    "import matplotlib.patches as patches\n",
    "import cv2\n",
    "import pandas as pd\n",
    "from svgpathtools import parse_path\n",
    "import svg_distance_helpers as rsh\n",
    "import torch\n",
    "from torch.autograd import Variable\n",
    "import SimpleITK as sitk\n",
    "from torch.autograd import Variable\n"
   ]
  },
  {
   "cell_type": "markdown",
   "metadata": {},
   "source": [
    "#### File Hierarchy"
   ]
  },
  {
   "cell_type": "code",
   "execution_count": 3,
   "metadata": {},
   "outputs": [],
   "source": [
    "# directory & file hierarchy\n",
    "analysis_dir = os.getcwd()\n",
    "data_dir = os.path.join(analysis_dir,\"photodraw_tracing\")\n",
    "ref_dir = os.path.join(analysis_dir, 'tracing_ref_400')\n",
    "tracing = ['square','shape', 'this circle']"
   ]
  },
  {
   "cell_type": "markdown",
   "metadata": {},
   "source": [
    "#### Set Up"
   ]
  },
  {
   "cell_type": "code",
   "execution_count": 5,
   "metadata": {},
   "outputs": [
    {
     "name": "stdout",
     "output_type": "stream",
     "text": [
      "square\n",
      "shape\n",
      "this circle\n"
     ]
    }
   ],
   "source": [
    "# generate reference shapes\n",
    "really_run_this = 1\n",
    "if really_run_this:\n",
    "    ref_path = []\n",
    "    for t in tracing:\n",
    "        print t\n",
    "        fname = os.path.join(ref_dir, '{}.png'.format(t))\n",
    "        img_ref = cv2.imread(fname)\n",
    "        img_ref = rsh.color_to_num(img_ref, threshold=0, white_background=False)\n",
    "        ofname = os.path.join(ref_dir, '{}_ref.png'.format(t))\n",
    "        cv2.imwrite(ofname, 255-img_ref*255)\n",
    "        ref_path.append(ofname)\n",
    "    "
   ]
  },
  {
   "cell_type": "code",
   "execution_count": null,
   "metadata": {},
   "outputs": [],
   "source": [
    "# Overlap the drawing on reference images\n",
    "iteration_name = ['CDM_photodraw_e1', 'cdm_run_v3', 'cdm_run_v4']# name labels used in kiddraw database\n",
    "dir_name = ['photodraw_e1', 'museumstation_v3', 'museumstation_v4'] # name labels will be used for new data storage \n",
    "tracing = ['square', 'shape', 'this circle']\n",
    "\n",
    "# create the folder to store overlapped images\n",
    "overlap_dir = os.path.join(analysis_dir, 'tracing_overlap')\n",
    "if not os.path.exists(overlap_dir):\n",
    "    os.makedirs(overlap_dir)\n",
    "\n",
    "for di, dname in enumerate(dir_name):\n",
    "    # create an individual folder for each experiment+version pair\n",
    "    iter_dir = os.path.join(overlap_dir, dname)\n",
    "    if not os.path.exists(iter_dir):\n",
    "        os.makedirs(iter_dir)\n",
    "        \n",
    "    current_data_dir = os.path.join(analysis_dir,\"tracing_{}\".format(iteration_name[di]))\n",
    "\n",
    "    # get tracings from the data folder\n",
    "    for ti, t in enumerate(tracing):\n",
    "            \n",
    "        # folders that store the original tracing files\n",
    "        if dname == 'photodraw_e1' and (t == 'square' or t == 'shape'):\n",
    "            t = 'this ' + t\n",
    "        t_dir = os.path.join(current_data_dir, t)\n",
    "        \n",
    "        # create folders to store overlapped images\n",
    "        overlap_t = os.path.join(iter_dir, t.replace('this ', ''))\n",
    "        if not os.path.exists(overlap_t):\n",
    "                os.makedirs(overlap_t)\n",
    "        \n",
    "        \n",
    "        if os.path.exists(t_dir):\n",
    "            for fname in os.listdir(t_dir):\n",
    "                if fname.startswith('age'):\n",
    "                    img_draw = os.path.join(t_dir, fname)\n",
    "                    img_ref = ref_path[ti]\n",
    "\n",
    "                    draw = cv2.imread(img_draw).astype(int16)\n",
    "                    ref = cv2.imread(img_ref).astype(int16)\n",
    "                    img = ref\n",
    "                    img[np.sum(ref, axis=2)<255*3] = [150, 150, 150]\n",
    "                    img[np.sum(draw, axis=2)<255*3] = [40, 40, 170]\n",
    "\n",
    "                    split_fname = fname.split('_')\n",
    "                    age = split_fname[0]\n",
    "                    timestamp = split_fname[3][2:]\n",
    "                    new_fname = \"{}_{}_{}_{}.png\".format(age, dname, timestamp, t.replace('this ', ''))\n",
    "                    cv2.imwrite(os.path.join(iter_dir,t.replace('this ', ''), new_fname), img)"
   ]
  },
  {
   "cell_type": "markdown",
   "metadata": {},
   "source": [
    "#### upload stims to s3"
   ]
  },
  {
   "cell_type": "code",
   "execution_count": null,
   "metadata": {
    "scrolled": true
   },
   "outputs": [],
   "source": [
    "import boto\n",
    "runThis = 0\n",
    "if runThis:\n",
    "    conn = boto.connect_s3()\n",
    "    b = conn.create_bucket(bucket_name) ### if bucket already exists, then get_bucket, else create_bucket\n",
    "    for ind,this_triplet in enumerate(triplet_dirs):\n",
    "        ims = [i for i in os.listdir(this_triplet) if i[-3:]=='png']\n",
    "        for im in ims:\n",
    "            print ind, im\n",
    "            k = b.new_key(im)\n",
    "            k.set_contents_from_filename(os.path.join(this_triplet,im))\n",
    "            k.set_acl('public-read')"
   ]
  },
  {
   "cell_type": "markdown",
   "metadata": {},
   "source": [
    "#### build stimulus dictionary & upload metadata to mongo"
   ]
  },
  {
   "cell_type": "code",
   "execution_count": null,
   "metadata": {},
   "outputs": [],
   "source": []
  },
  {
   "cell_type": "code",
   "execution_count": 139,
   "metadata": {},
   "outputs": [
    {
     "name": "stdout",
     "output_type": "stream",
     "text": [
      "(5251, 14)\n",
      "square 2 (200, 14)\n",
      "square 3 (200, 14)\n",
      "square 4 (212, 14)\n",
      "square 5 (224, 14)\n",
      "square 6 (215, 14)\n",
      "square 7 (209, 14)\n",
      "square 8 (200, 14)\n",
      "square 9 (169, 14)\n",
      "square 10 (200, 14)\n",
      "shape 2 (200, 14)\n",
      "shape 3 (200, 14)\n",
      "shape 4 (211, 14)\n",
      "shape 5 (224, 14)\n",
      "shape 6 (215, 14)\n",
      "shape 7 (209, 14)\n",
      "shape 8 (200, 14)\n",
      "shape 9 (137, 14)\n",
      "shape 10 (200, 14)\n",
      "this circle 2 (200, 14)\n",
      "this circle 3 (200, 14)\n",
      "this circle 4 (213, 14)\n",
      "this circle 5 (224, 14)\n",
      "this circle 6 (215, 14)\n",
      "this circle 7 (159, 14)\n",
      "this circle 8 (155, 14)\n",
      "this circle 9 (95, 14)\n",
      "this circle 10 (165, 14)\n"
     ]
    }
   ],
   "source": [
    "# read in data from csv files\n",
    "cdm_v3 = pd.read_csv('MuseumStation_Tracing_Descriptives_cdm_run_v3.csv')\n",
    "cdm_v4 = pd.read_csv('MuseumStation_Tracing_Descriptives_cdm_run_v4.csv')\n",
    "photodraw = pd.read_csv('Photodraw_Tracing_Descriptives_CDM_photodraw_e1.csv')\n",
    "limit = 200\n",
    "overall = photodraw\n",
    "\n",
    "for t in tracing:\n",
    "    for a in range(2,11):\n",
    "        cdm_v3_tage = cdm_v3.loc[(cdm_v3['age'] == 'age{}'.format(a)) & (cdm_v3['category']== t)]\n",
    "        v3_size = cdm_v3_tage.shape[0]                 \n",
    "        if v3_size > limit:\n",
    "            overall = pd.concat([overall, cdm_v3_tage[:200]])\n",
    "            \n",
    "        else:\n",
    "            overall = pd.concat([overall, cdm_v3_tage]) \n",
    "            \n",
    "            cdm_v4_tage = cdm_v4.loc[(cdm_v4['age'] == 'age{}'.format(a)) & (cdm_v4['category']== t)]\n",
    "            \n",
    "            overall = pd.concat([overall, cdm_v4_tage[:limit-v3_size]])\n",
    "\n",
    "print overall.shape\n",
    "for t in tracing:\n",
    "    for a in range(2,11):\n",
    "        print t, a, overall.loc[(overall['age'] == 'age{}'.format(a)) & ( (overall['category'] == t) | (overall['category'] == 'this {}'.format(t)) )].shape\n",
    "\n",
    "overall = overall.drop(['filename', \"Unnamed: 0\"], axis=1)\n",
    "overall.reset_index(inplace = True)"
   ]
  },
  {
   "cell_type": "code",
   "execution_count": 140,
   "metadata": {},
   "outputs": [],
   "source": [
    "overall['exp_name'] = 0\n",
    "overall['iteration_name'] = 0\n",
    "overall['timestamp'] = 0\n",
    "overall['img_url'] = 0\n",
    "overall['number_rating_levels'] = 5\n",
    "overall['lower_bound'] = 'poor'\n",
    "overall['upper_bound'] = 'excellent' \n",
    "\n",
    "for index, row in overall.iterrows():\n",
    "    sid = row['session_id']    \n",
    "    if sid.startswith('CDM'):\n",
    "        overall.loc[index,'exp_name'] = 'photodraw'\n",
    "        overall.loc[index,'iteration_name'] = 'e1'\n",
    "    else:\n",
    "        overall.loc[index,'exp_name'] = 'museumstation'\n",
    "        overall.loc[index,'iteration_name'] = sid.split('_')[2][:2]\n",
    "    \n",
    "    timestamp = row['session_id'].split('_')[-1][2:]\n",
    "    overall.loc[index, 'timestamp'] = timestamp\n",
    "    fname = '{}_{}_{}_{}_{}.png'.format(row['age'], overall.loc[index,'exp_name'],overall.loc[index,'iteration_name'], timestamp, row['category'].replace('this ',''))\n",
    "    \n",
    "    overall.loc[index,'img_url'] = 'https://s3.amazonaws.com/{}/{}'.format('kiddraw-tracing',fname)\n",
    "    overall.loc[index,'category'] = row['category'].replace('this ','')\n",
    "    overall.loc[index,'games'] = '[]'\n",
    "    overall.loc[index,'age'] = overall.loc[index,'age'].replace('age','')\n",
    "\n",
    "overall['age'] = pd.to_numeric(overall['age'])\n"
   ]
  },
  {
   "cell_type": "code",
   "execution_count": 141,
   "metadata": {},
   "outputs": [],
   "source": [
    "## apply weird literal eval hack to convert string into regular list\n",
    "import ast\n",
    "overall['games'] = overall['games'].apply(lambda x: ast.literal_eval(x))"
   ]
  },
  {
   "cell_type": "code",
   "execution_count": 142,
   "metadata": {},
   "outputs": [],
   "source": [
    "try:\n",
    "    overall = overall.drop('index', axis=1)\n",
    "except:\n",
    "    pass\n",
    "\n",
    "## save out data frame as csv for our own records\n",
    "overall.to_csv('kiddraw_tracing_eval.csv',index=False)"
   ]
  },
  {
   "cell_type": "code",
   "execution_count": 144,
   "metadata": {},
   "outputs": [],
   "source": [
    "## convert 'overall' pandas dataframe to json object and save out\n",
    "import json\n",
    "stimdict = overall.to_dict(orient='records') \n",
    "with open('{}.js'.format('kiddraw_tracing_eval'), 'w') as fout:\n",
    "    json.dump(stimdict, fout)"
   ]
  },
  {
   "cell_type": "markdown",
   "metadata": {},
   "source": [
    "### load JSON back in to inspect before uploading to mongo"
   ]
  },
  {
   "cell_type": "code",
   "execution_count": 146,
   "metadata": {},
   "outputs": [
    {
     "name": "stdout",
     "output_type": "stream",
     "text": [
      "next todo is to upload this JSON to initialize the new stimulus collection...\n"
     ]
    }
   ],
   "source": [
    "### define datasetname\n",
    "dataset_name = 'kiddraw_tracing_eval'\n",
    "\n",
    "### next todo is to upload this JSON to initialize the new stimulus collection\n",
    "print('next todo is to upload this JSON to initialize the new stimulus collection...')\n",
    "import json\n",
    "J = json.loads(open('{}.js'.format(dataset_name),mode='ru').read())"
   ]
  },
  {
   "cell_type": "code",
   "execution_count": 149,
   "metadata": {},
   "outputs": [
    {
     "name": "stdout",
     "output_type": "stream",
     "text": [
      "dataset_name: kiddraw_tracing_eval\n",
      "5251\n"
     ]
    }
   ],
   "source": [
    "##assert len(J)==len(all_files)\n",
    "print 'dataset_name: {}'.format(dataset_name)\n",
    "print len(J)"
   ]
  },
  {
   "cell_type": "code",
   "execution_count": 150,
   "metadata": {},
   "outputs": [
    {
     "data": {
      "text/plain": [
       "{u'age': 7,\n",
       " u'bounding_box': u'(96, 287, 115, 300)',\n",
       " u'category': u'square',\n",
       " u'draw_duration_new': 0.0,\n",
       " u'draw_duration_old': 0.0,\n",
       " u'exp_name': u'photodraw',\n",
       " u'games': [],\n",
       " u'img_url': u'https://s3.amazonaws.com/kiddraw-tracing/age7_photodraw_e1_1532111112405_square.png',\n",
       " u'iteration_name': u'e1',\n",
       " u'lower_bound': u'poor',\n",
       " u'mean_intensity': 0.01055,\n",
       " u'num_strokes': 1,\n",
       " u'number_rating_levels': 5,\n",
       " u'session_id': u'CDM_photodraw_e11532111112405',\n",
       " u'submit_date': u'2018-07-20T19:04:03.404Z',\n",
       " u'submit_time': 1532113443404.0,\n",
       " u'timestamp': u'1532111112405',\n",
       " u'trial_duration': nan,\n",
       " u'trial_num': 0,\n",
       " u'upper_bound': u'excellent'}"
      ]
     },
     "execution_count": 150,
     "metadata": {},
     "output_type": "execute_result"
    }
   ],
   "source": [
    "## look at one example record\n",
    "J[0]"
   ]
  },
  {
   "cell_type": "code",
   "execution_count": 158,
   "metadata": {},
   "outputs": [],
   "source": [
    "# set vars \n",
    "auth = pd.read_csv('auth.txt', header = None) # this auth.txt file contains the password for the sketchloop user\n",
    "pswd = auth.values[0][0]\n",
    "user = 'sketchloop'\n",
    "host = 'rxdhawkins.me' ## cocolab ip address\n",
    "\n",
    "# have to fix this to be able to analyze from local\n",
    "conn = pm.MongoClient('mongodb://sketchloop:' + pswd + '@127.0.0.1')\n",
    "db = conn['stimuli']\n",
    "coll = db[dataset_name]"
   ]
  },
  {
   "cell_type": "code",
   "execution_count": 159,
   "metadata": {},
   "outputs": [
    {
     "data": {
      "text/plain": [
       "0"
      ]
     },
     "execution_count": 159,
     "metadata": {},
     "output_type": "execute_result"
    }
   ],
   "source": [
    "coll.count()"
   ]
  },
  {
   "cell_type": "code",
   "execution_count": 154,
   "metadata": {},
   "outputs": [
    {
     "ename": "TypeError",
     "evalue": "'Collection' object is not callable. If you meant to call the 'insert_one' method on a 'Collection' object it is failing because no such method exists.",
     "output_type": "error",
     "traceback": [
      "\u001b[0;31m---------------------------------------------------------------------------\u001b[0m",
      "\u001b[0;31mTypeError\u001b[0m                                 Traceback (most recent call last)",
      "\u001b[0;32m<ipython-input-154-90c962a916cb>\u001b[0m in \u001b[0;36m<module>\u001b[0;34m()\u001b[0m\n\u001b[1;32m      7\u001b[0m             \u001b[0;32mprint\u001b[0m \u001b[0;34m(\u001b[0m\u001b[0;34m'%d of %d'\u001b[0m \u001b[0;34m%\u001b[0m \u001b[0;34m(\u001b[0m\u001b[0mi\u001b[0m\u001b[0;34m,\u001b[0m\u001b[0mlen\u001b[0m\u001b[0;34m(\u001b[0m\u001b[0mJ\u001b[0m\u001b[0;34m)\u001b[0m\u001b[0;34m)\u001b[0m\u001b[0;34m)\u001b[0m\u001b[0;34m\u001b[0m\u001b[0m\n\u001b[1;32m      8\u001b[0m             \u001b[0mclear_output\u001b[0m\u001b[0;34m(\u001b[0m\u001b[0mwait\u001b[0m\u001b[0;34m=\u001b[0m\u001b[0mTrue\u001b[0m\u001b[0;34m)\u001b[0m\u001b[0;34m\u001b[0m\u001b[0m\n\u001b[0;32m----> 9\u001b[0;31m         \u001b[0mcoll\u001b[0m\u001b[0;34m.\u001b[0m\u001b[0minsert_one\u001b[0m\u001b[0;34m(\u001b[0m\u001b[0mj\u001b[0m\u001b[0;34m)\u001b[0m\u001b[0;34m\u001b[0m\u001b[0m\n\u001b[0m",
      "\u001b[0;32m/Users/zixianchai/anaconda2/lib/python2.7/site-packages/pymongo/collection.pyc\u001b[0m in \u001b[0;36m__call__\u001b[0;34m(self, *args, **kwargs)\u001b[0m\n\u001b[1;32m   1771\u001b[0m                         \u001b[0;34m\"call the '%s' method on a 'Collection' object it is \"\u001b[0m\u001b[0;34m\u001b[0m\u001b[0m\n\u001b[1;32m   1772\u001b[0m                         \u001b[0;34m\"failing because no such method exists.\"\u001b[0m \u001b[0;34m%\u001b[0m\u001b[0;34m\u001b[0m\u001b[0m\n\u001b[0;32m-> 1773\u001b[0;31m                         self.__name.split(\".\")[-1])\n\u001b[0m",
      "\u001b[0;31mTypeError\u001b[0m: 'Collection' object is not callable. If you meant to call the 'insert_one' method on a 'Collection' object it is failing because no such method exists."
     ]
    }
   ],
   "source": [
    "from IPython.display import clear_output\n",
    "## actually add data now to the database\n",
    "reallyRun = 1\n",
    "if reallyRun:\n",
    "    for (i,j) in enumerate(J):\n",
    "        if i%100==0:\n",
    "            print ('%d of %d' % (i,len(J)))\n",
    "            clear_output(wait=True)\n",
    "        coll.insert_one(j)"
   ]
  },
  {
   "cell_type": "code",
   "execution_count": null,
   "metadata": {},
   "outputs": [],
   "source": [
    "## check how many records have been retrieved\n",
    "a = coll.find({'shuffler_ind':{'$gte':0}})\n",
    "numGames = []\n",
    "for rec in a:\n",
    "    numGames.append(len(rec['games']))\n",
    "b = np.array(numGames)\n",
    "print np.mean(b>0)"
   ]
  },
  {
   "cell_type": "code",
   "execution_count": null,
   "metadata": {},
   "outputs": [],
   "source": []
  },
  {
   "cell_type": "code",
   "execution_count": null,
   "metadata": {},
   "outputs": [],
   "source": []
  },
  {
   "cell_type": "code",
   "execution_count": null,
   "metadata": {},
   "outputs": [],
   "source": []
  },
  {
   "cell_type": "code",
   "execution_count": null,
   "metadata": {},
   "outputs": [],
   "source": []
  },
  {
   "cell_type": "code",
   "execution_count": null,
   "metadata": {},
   "outputs": [],
   "source": []
  },
  {
   "cell_type": "code",
   "execution_count": null,
   "metadata": {},
   "outputs": [],
   "source": []
  }
 ],
 "metadata": {
  "kernelspec": {
   "display_name": "Python 2",
   "language": "python",
   "name": "python2"
  },
  "language_info": {
   "codemirror_mode": {
    "name": "ipython",
    "version": 2
   },
   "file_extension": ".py",
   "mimetype": "text/x-python",
   "name": "python",
   "nbconvert_exporter": "python",
   "pygments_lexer": "ipython2",
   "version": "2.7.3"
  }
 },
 "nbformat": 4,
 "nbformat_minor": 1
}
