{
 "cells": [
  {
   "cell_type": "code",
   "execution_count": null,
   "metadata": {},
   "outputs": [],
   "source": [
    "import torch as th\n",
    "\n",
    "import matplotlib.pyplot as plt\n",
    "import time\n",
    "\n",
    "import sys\n",
    "import os\n",
    "from __future__ import division\n",
    "import os\n",
    "import urllib, cStringIO\n",
    "import pymongo as pm ## first establish ssh tunnel to server where database is running\n",
    "import base64\n",
    "import numpy as np\n",
    "from numpy import *\n",
    "import PIL\n",
    "from PIL import Image\n",
    "import base64\n",
    "import matplotlib\n",
    "%matplotlib inline\n",
    "from matplotlib import pylab, mlab, pyplot\n",
    "from IPython.core.pylabtools import figsize, getfigs\n",
    "plt = pyplot\n",
    "import seaborn as sns\n",
    "sns.set_context('poster')\n",
    "sns.set_style('white')\n",
    "from matplotlib.path import Path\n",
    "import matplotlib.patches as patches\n",
    "import cv2\n",
    "import pandas as pd\n",
    "from svgpathtools import parse_path\n",
    "import svg_distance_helpers as rsh\n",
    "import torch\n",
    "from torch.autograd import Variable\n",
    "import SimpleITK as sitk\n",
    "#sys.path.append(os.path.dirname(os.path.dirname(os.path.abspath(__file__))))\n",
    "import airlab as al\n",
    "from torch.autograd import Variable\n",
    "import affine_registration_2d as ar"
   ]
  },
  {
   "cell_type": "code",
   "execution_count": null,
   "metadata": {},
   "outputs": [],
   "source": [
    "# directory & file hierarchy\n",
    "analysis_dir = os.getcwd()\n",
    "data_dir = os.path.join(analysis_dir,\"photodraw_tracing\")\n",
    "ref_dir = os.path.join(analysis_dir, 'tracing_ref')\n",
    "trans_dir = os.path.join(analysis_dir, 'transformed')\n",
    "\n",
    "canvas_side = 432 # image size\n",
    "rows, cols = canvas_side, canvas_side # the size of a given drawing image\n",
    "tracing = ['this square','this shape', 'this circle']"
   ]
  },
  {
   "cell_type": "code",
   "execution_count": null,
   "metadata": {},
   "outputs": [],
   "source": [
    "# prepare lists for dataframe construction\n",
    "age = []\n",
    "sessionid = []\n",
    "trace_item = []\n",
    "pre_mse = []\n",
    "post_mse = []\n",
    "rotate = []\n",
    "translate = []"
   ]
  },
  {
   "cell_type": "code",
   "execution_count": null,
   "metadata": {},
   "outputs": [],
   "source": [
    "# generate reference shapes\n",
    "really_run_this = 1\n",
    "if really_run_this:\n",
    "    ref_path = []\n",
    "    for t in tracing:\n",
    "        fname = os.path.join(ref_dir, '{}.png'.format(t))\n",
    "        img_ref = cv2.imread(fname)\n",
    "        img_ref = rsh.color_to_num(img_ref, threshold=0, white_background=False)\n",
    "        ofname = os.path.join(ref_dir, '{}_ref.png'.format(t))\n",
    "        cv2.imwrite(ofname, 255-img_ref*255)\n",
    "        ref_path.append(ofname)\n",
    "    "
   ]
  },
  {
   "cell_type": "code",
   "execution_count": null,
   "metadata": {},
   "outputs": [],
   "source": [
    "reload(ar)\n",
    "# get tracings from the data folder\n",
    "for child_dir in os.listdir(data_dir):\n",
    "    if child_dir.startswith('CDM'):\n",
    "        child_info = child_dir.split('_')\n",
    "        c_age = int(child_info[-1].replace('age',''))\n",
    "        c_sessionid = child_info[2]\n",
    "\n",
    "        for ti, t in enumerate(tracing):\n",
    "            img_draw = os.path.join(data_dir, child_dir, '{}.png'.format(t))\n",
    "            \n",
    "            if os.path.exists(img_draw):\n",
    "                img_ref = ref_path[ti]\n",
    "                init_loss, final_loss, ro, tran, warped = ar.affine_reg(img_draw, img_ref)\n",
    "                cv2.imwrite(os.path.join(trans_dir, 'warp_{}_{}.png'.format(img_draw, c_sessionid)), warped.numpy())\n",
    "                \n",
    "                # prepare the dataframe\n",
    "                age.append(c_age)\n",
    "                sessionid.append(c_sessionid)\n",
    "                trace_item.append(t)\n",
    "                pre_mse.append(init_loss)\n",
    "                post_mse.append(final_loss)\n",
    "                rotate.append(ro)\n",
    "                translate.append(tran)"
   ]
  },
  {
   "cell_type": "code",
   "execution_count": null,
   "metadata": {
    "scrolled": false
   },
   "outputs": [],
   "source": [
    "print age"
   ]
  },
  {
   "cell_type": "code",
   "execution_count": null,
   "metadata": {},
   "outputs": [],
   "source": [
    "really_run_this = 1 \n",
    "## compile data\n",
    "if really_run_this:\n",
    "    data = pd.DataFrame([sessionid, age, trace_item, pre_mse, post_mse, rotate, translate])\n",
    "    data = data.transpose()\n",
    "    data.columns = ['session_id','age', 'tracing_item', 'pre_mse', 'post_mse', 'rotate', 'translate']\n",
    "    \n",
    "## save out the data\n",
    "data.to_csv(\"photodraw_tracing.csv\")"
   ]
  },
  {
   "cell_type": "markdown",
   "metadata": {},
   "source": [
    "#### Data Visualization"
   ]
  },
  {
   "cell_type": "code",
   "execution_count": null,
   "metadata": {},
   "outputs": [],
   "source": [
    "really_run_this = 1 \n",
    "\n",
    "if really_run_this:\n",
    "    data = pd.read_csv('photodraw_tracing.csv')"
   ]
  },
  {
   "cell_type": "markdown",
   "metadata": {},
   "source": [
    "- X axis: Age        \n",
    "- Y axis: pre/post-mse"
   ]
  },
  {
   "cell_type": "code",
   "execution_count": null,
   "metadata": {
    "scrolled": false
   },
   "outputs": [],
   "source": [
    "plt.figure(figsize=(18,5))\n",
    "plt.subplots_adjust(wspace=0.3)\n",
    "\n",
    "for ti, t in enumerate(tracing):\n",
    "    age = []\n",
    "    mse_list = []\n",
    "    current_trace = data.loc[(data['tracing_item'] == t)]\n",
    "    \n",
    "    for index, row in current_trace.iterrows():\n",
    "        age.append(row['age'])\n",
    "        mse_list.append(row['pre_mse'])\n",
    "    \n",
    "    plt.subplot(1,3,ti+1)\n",
    "    h = plt.scatter(age, mse_list)\n",
    "    plt.ylabel(t +' pre-mse')\n",
    "    plt.xlabel('age')\n",
    "    \n",
    "plt.figure(figsize=(18,5))\n",
    "plt.subplots_adjust(wspace=0.3)\n",
    "\n",
    "for ti, t in enumerate(tracing):\n",
    "    age = []\n",
    "    mse_list = []\n",
    "    current_trace = data.loc[(data['tracing_item'] == t)]\n",
    "    \n",
    "    for index, row in current_trace.iterrows():\n",
    "        age.append(row['age'])\n",
    "        mse_list.append(row['post_mse'])\n",
    "    \n",
    "    plt.subplot(1,3,ti+1)\n",
    "    h = plt.scatter(age, mse_list)\n",
    "    plt.ylabel(t +' post-mse')\n",
    "    plt.xlabel('age')\n"
   ]
  },
  {
   "cell_type": "markdown",
   "metadata": {},
   "source": [
    "- X axis: Pre-mse\n",
    "- Y axis: Post-mse  \n",
    "- Age: different colors"
   ]
  },
  {
   "cell_type": "code",
   "execution_count": null,
   "metadata": {},
   "outputs": [],
   "source": [
    "plt.figure(figsize=(18,5))\n",
    "plt.subplots_adjust(wspace=0.3)\n",
    "\n",
    "for ti, t in enumerate(tracing):\n",
    "    plt.subplot(1,3,ti+1)\n",
    "    plt.ylabel(t +' post-mse')\n",
    "    plt.xlabel('pre-mse')\n",
    "    plt.ylim((0.0, 0.1))\n",
    "    \n",
    "    for age in range(4, 8):\n",
    "        current_trace = data.loc[(data['age'] == age) &(data['tracing_item'] == t)]\n",
    "        pre_mse_list = []\n",
    "        post_mse_list = []\n",
    "        \n",
    "        for index, row in current_trace.iterrows():\n",
    "            pre_mse_list.append(row['pre_mse'])\n",
    "            post_mse_list.append(row['post_mse'])\n",
    "\n",
    "        h = plt.scatter(pre_mse_list, post_mse_list, label='age'+str(age))\n",
    "    \n",
    "    plt.legend()\n"
   ]
  },
  {
   "cell_type": "markdown",
   "metadata": {},
   "source": [
    "- X axis: Age        \n",
    "- Y axis: rotation"
   ]
  },
  {
   "cell_type": "code",
   "execution_count": null,
   "metadata": {},
   "outputs": [],
   "source": [
    "plt.figure(figsize=(18,5))\n",
    "plt.subplots_adjust(wspace=0.3)\n",
    "\n",
    "for ti, t in enumerate(tracing):\n",
    "    age = []\n",
    "    mse_list = []\n",
    "    current_trace = data.loc[(data['tracing_item'] == t)]\n",
    "    \n",
    "    for index, row in current_trace.iterrows():\n",
    "        age.append(row['age'])\n",
    "        mse_list.append(row['rotate'])\n",
    "    \n",
    "    plt.subplot(1,3,ti+1)\n",
    "    h = plt.scatter(age, mse_list)\n",
    "    plt.ylabel(t +' rotation')\n",
    "    plt.xlabel('age')\n",
    "    plt.ylim((0.0, 0.5))"
   ]
  },
  {
   "cell_type": "markdown",
   "metadata": {},
   "source": [
    "- X axis: Age        \n",
    "- Y axis: translation"
   ]
  },
  {
   "cell_type": "code",
   "execution_count": null,
   "metadata": {},
   "outputs": [],
   "source": [
    "plt.figure(figsize=(18,5))\n",
    "plt.subplots_adjust(wspace=0.3)\n",
    "\n",
    "for ti, t in enumerate(tracing):\n",
    "    age = []\n",
    "    mse_list = []\n",
    "    current_trace = data.loc[(data['tracing_item'] == t)]\n",
    "    \n",
    "    for index, row in current_trace.iterrows():\n",
    "        age.append(row['age'])\n",
    "        mse_list.append(row['translate'])\n",
    "    \n",
    "    plt.subplot(1,3,ti+1)\n",
    "    h = plt.scatter(age, mse_list)\n",
    "    plt.ylabel(t +' translation')\n",
    "    plt.xlabel('age')\n",
    "    plt.ylim((0.0, 0.4))"
   ]
  },
  {
   "cell_type": "code",
   "execution_count": null,
   "metadata": {},
   "outputs": [],
   "source": []
  }
 ],
 "metadata": {
  "kernelspec": {
   "display_name": "Python 2",
   "language": "python",
   "name": "python2"
  },
  "language_info": {
   "codemirror_mode": {
    "name": "ipython",
    "version": 2
   },
   "file_extension": ".py",
   "mimetype": "text/x-python",
   "name": "python",
   "nbconvert_exporter": "python",
   "pygments_lexer": "ipython2",
   "version": "2.7.14"
  }
 },
 "nbformat": 4,
 "nbformat_minor": 2
}
