{
 "cells": [
  {
   "cell_type": "code",
   "execution_count": 352,
   "metadata": {},
   "outputs": [
    {
     "ename": "NameError",
     "evalue": "name 'sys' is not defined",
     "output_type": "error",
     "traceback": [
      "\u001b[0;31m---------------------------------------------------------------------------\u001b[0m",
      "\u001b[0;31mNameError\u001b[0m                                 Traceback (most recent call last)",
      "\u001b[0;32m<ipython-input-352-366009f93c4e>\u001b[0m in \u001b[0;36m<module>\u001b[0;34m()\u001b[0m\n\u001b[1;32m     27\u001b[0m \u001b[0;32mfrom\u001b[0m \u001b[0mtorch\u001b[0m\u001b[0;34m.\u001b[0m\u001b[0mautograd\u001b[0m \u001b[0;32mimport\u001b[0m \u001b[0mVariable\u001b[0m\u001b[0;34m\u001b[0m\u001b[0m\n\u001b[1;32m     28\u001b[0m \u001b[0;34m\u001b[0m\u001b[0m\n\u001b[0;32m---> 29\u001b[0;31m \u001b[0msys\u001b[0m\u001b[0;34m.\u001b[0m\u001b[0mpath\u001b[0m\u001b[0;34m.\u001b[0m\u001b[0mappend\u001b[0m\u001b[0;34m(\u001b[0m\u001b[0mos\u001b[0m\u001b[0;34m.\u001b[0m\u001b[0mpath\u001b[0m\u001b[0;34m.\u001b[0m\u001b[0mdirname\u001b[0m\u001b[0;34m(\u001b[0m\u001b[0mos\u001b[0m\u001b[0;34m.\u001b[0m\u001b[0mpath\u001b[0m\u001b[0;34m.\u001b[0m\u001b[0mdirname\u001b[0m\u001b[0;34m(\u001b[0m\u001b[0mos\u001b[0m\u001b[0;34m.\u001b[0m\u001b[0mpath\u001b[0m\u001b[0;34m.\u001b[0m\u001b[0mabspath\u001b[0m\u001b[0;34m(\u001b[0m\u001b[0m__file__\u001b[0m\u001b[0;34m)\u001b[0m\u001b[0;34m)\u001b[0m\u001b[0;34m)\u001b[0m\u001b[0;34m)\u001b[0m\u001b[0;34m\u001b[0m\u001b[0m\n\u001b[0m\u001b[1;32m     30\u001b[0m \u001b[0;32mimport\u001b[0m \u001b[0mairlab\u001b[0m \u001b[0;32mas\u001b[0m \u001b[0mal\u001b[0m\u001b[0;34m\u001b[0m\u001b[0m\n",
      "\u001b[0;31mNameError\u001b[0m: name 'sys' is not defined"
     ]
    }
   ],
   "source": [
    "from __future__ import division\n",
    "import os\n",
    "import urllib, cStringIO\n",
    "import pymongo as pm ## first establish ssh tunnel to server where database is running\n",
    "import base64\n",
    "import numpy as np\n",
    "from numpy import *\n",
    "import PIL\n",
    "from PIL import Image\n",
    "import base64\n",
    "import matplotlib\n",
    "%matplotlib inline\n",
    "from matplotlib import pylab, mlab, pyplot\n",
    "from IPython.core.pylabtools import figsize, getfigs\n",
    "plt = pyplot\n",
    "import seaborn as sns\n",
    "sns.set_context('poster')\n",
    "sns.set_style('white')\n",
    "from matplotlib.path import Path\n",
    "import matplotlib.patches as patches\n",
    "import cv2\n",
    "import pandas as pd\n",
    "from svgpathtools import parse_path\n",
    "import svg_distance_helpers as rsh\n",
    "import svg_render_helpers as rrh\n",
    "import torch\n",
    "from torch.autograd import Variable\n",
    "\n"
   ]
  },
  {
   "cell_type": "markdown",
   "metadata": {},
   "source": [
    "#### directory and file hierarchy"
   ]
  },
  {
   "cell_type": "code",
   "execution_count": 2,
   "metadata": {},
   "outputs": [],
   "source": [
    "# directory & file hierarchy\n",
    "analysis_dir = os.getcwd()\n",
    "tracing_ref_pixel = os.path.join(analysis_dir, 'tracing_ref_pixel')\n",
    "tracing_ref_svg = os.path.join(analysis_dir, 'tracing_ref_svg')\n",
    "data_dir = os.path.join(analysis_dir,\"trace_test\")\n",
    "\n",
    "canvas_side = 432 # image size\n",
    "rows, cols = canvas_side, canvas_side # the size of a given drawing image"
   ]
  },
  {
   "cell_type": "code",
   "execution_count": null,
   "metadata": {},
   "outputs": [],
   "source": [
    "# set vars \n",
    "auth = pd.read_csv('auth.txt', header = None) # this auth.txt file contains the password for the sketchloop user\n",
    "pswd = auth.values[0][0]\n",
    "user = 'sketchloop'\n",
    "host = 'rxdhawkins.me' ## cocolab ip address\n",
    "\n",
    "# have to fix this to be able to analyze from local\n",
    "import pymongo as pm\n",
    "conn = pm.MongoClient('mongodb://sketchloop:' + pswd + '@127.0.0.1')\n",
    "db = conn['kiddraw']\n",
    "coll = db['cdm_run_v3']"
   ]
  },
  {
   "cell_type": "markdown",
   "metadata": {},
   "source": [
    "#### Get SVG data"
   ]
  },
  {
   "cell_type": "code",
   "execution_count": null,
   "metadata": {},
   "outputs": [],
   "source": [
    "# test on a specific square with one stroke\n",
    "imrecs = coll.find({'$and':[{'category':'square'},{'dataType':'finalImage'}, {'sessionId':'cdm_run_v31525889224904'}]}).sort('time')\n",
    "print imrecs.count()\n",
    "\n",
    "## retrieve example square tracing from db\n",
    "imrec = imrecs[0] "
   ]
  },
  {
   "cell_type": "code",
   "execution_count": null,
   "metadata": {},
   "outputs": [],
   "source": [
    "reload(rsh)\n",
    "## get list of vertices and codes for tracing \n",
    "try:\n",
    "    ## get the corresponding stroke records for this tracing\n",
    "    stroke_recs = coll.find({'$and': [{'sessionId':imrec['sessionId']}, \n",
    "                                      {'dataType':'stroke'},\n",
    "                                      {'trialNum': imrec['trialNum']}]}).sort('time')\n",
    "\n",
    "    print 'Number of strokes in this tracing: {}'.format(stroke_recs.count())    \n",
    "    \n",
    "    ## check to make sure that there is at least one stroke! \n",
    "    if stroke_recs.count()>0:\n",
    "\n",
    "        ## now make an svg list!\n",
    "        svg_list = rsh.make_svg_list(stroke_recs)\n",
    "\n",
    "        ## get verts and codes in all strokes\n",
    "        ## both verts_list and codes_list are 2D list. Each sublist represent a stroke\n",
    "        verts_list, codes_list = rsh.get_verts_and_codes(svg_list)\n",
    "        \n",
    "        ## Convert multiple strokes into one stroke\n",
    "        \n",
    "        \n",
    "except Exception as e:\n",
    "    print 'Oops, something went wrong! Here is the error:'  \n",
    "    print e\n",
    "    pass        "
   ]
  },
  {
   "cell_type": "code",
   "execution_count": null,
   "metadata": {},
   "outputs": [],
   "source": []
  },
  {
   "cell_type": "markdown",
   "metadata": {},
   "source": [
    "#### Tracing/Copying Error Calculation "
   ]
  },
  {
   "cell_type": "code",
   "execution_count": 4,
   "metadata": {},
   "outputs": [],
   "source": [
    "# change names. only for testing purpose\n",
    "for index, imgfile in enumerate(os.listdir(data_dir)):\n",
    "    new_filename = 'test{:02}.png'.format(index)\n",
    "    os.rename(os.path.join(data_dir,imgfile), os.path.join(data_dir,new_filename))"
   ]
  },
  {
   "cell_type": "code",
   "execution_count": 333,
   "metadata": {
    "scrolled": true
   },
   "outputs": [
    {
     "name": "stdout",
     "output_type": "stream",
     "text": [
      "1733\n",
      "1344\n"
     ]
    }
   ],
   "source": [
    "reload(rsh)\n",
    "# get tracings from the data folder\n",
    "#for file in os.listdir(data_dir):\n",
    "\n",
    "# read in tracing and reference files\n",
    "fpath = os.path.join(data_dir, 'test23.png')\n",
    "img_draw = cv2.resize(cv2.imread(fpath),(200, 200))\n",
    "img_draw = rsh.color_to_num(img_draw)\n",
    "print len(rsh.find_black_pixels(img_draw))\n",
    "\n",
    "square_ref_file = os.path.join(tracing_ref_pixel, 'square_200.png')\n",
    "img_ref = cv2.imread(square_ref_file)\n",
    "img_ref = rsh.color_to_num(img_ref, threshold=0, white_background=False)\n",
    "print len(rsh.find_black_pixels(img_ref))\n",
    "# 1733 1344\n"
   ]
  },
  {
   "cell_type": "code",
   "execution_count": 342,
   "metadata": {},
   "outputs": [
    {
     "name": "stdout",
     "output_type": "stream",
     "text": [
      "epoch 0, loss -0.0319378525019\n",
      "epoch 100, loss -0.035124078393\n",
      "epoch 200, loss -0.0351846069098\n",
      "epoch 300, loss -0.03515169397\n",
      "epoch 400, loss -0.0351790301502\n",
      "epoch 500, loss -0.0351502560079\n",
      "epoch 600, loss -0.035154171288\n",
      "epoch 700, loss -0.0351744368672\n",
      "epoch 800, loss -0.0351398587227\n",
      "epoch 900, loss -0.0351506285369\n",
      "tensor(-0.0352, grad_fn=<ThAddBackward>)\n",
      "Parameter containing:\n",
      "tensor([[1.0246, 0.0686],\n",
      "        [0.0909, 1.0091]], requires_grad=True)\n",
      "Parameter containing:\n",
      "tensor([-2.0007, -0.0012], requires_grad=True)\n"
     ]
    }
   ],
   "source": [
    "reload(rsh)\n",
    "loss, final_draw, product, weights, bias = rsh.minimize_error_gradient(img_ref, img_draw)\n",
    "print loss\n",
    "print weights\n",
    "print bias"
   ]
  },
  {
   "cell_type": "code",
   "execution_count": 343,
   "metadata": {},
   "outputs": [
    {
     "name": "stdout",
     "output_type": "stream",
     "text": [
      "tensor([[ 32.5934, 104.3702],\n",
      "        [ 32.6621, 105.3793],\n",
      "        [ 32.7307, 106.3884],\n",
      "        ...,\n",
      "        [197.9622, 110.0126],\n",
      "        [198.0308, 111.0217],\n",
      "        [198.0995, 112.0308]], grad_fn=<ThAddmmBackward>)\n"
     ]
    }
   ],
   "source": [
    "print final_draw"
   ]
  },
  {
   "cell_type": "code",
   "execution_count": 344,
   "metadata": {},
   "outputs": [
    {
     "data": {
      "image/png": "[encoded data removed]",
      "text/plain": [
       "<PIL.Image.Image image mode=L size=200x200 at 0x1A18232B90>"
      ]
     },
     "execution_count": 344,
     "metadata": {},
     "output_type": "execute_result"
    }
   ],
   "source": [
    "img_ref_ = img_ref *255\n",
    "im3 = Image.fromarray(np.uint8(img_ref_))\n",
    "im3"
   ]
  },
  {
   "cell_type": "code",
   "execution_count": 345,
   "metadata": {},
   "outputs": [
    {
     "data": {
      "image/png": "[encoded data removed]",
      "text/plain": [
       "<PIL.Image.Image image mode=L size=200x200 at 0x1A1B29CA90>"
      ]
     },
     "execution_count": 345,
     "metadata": {},
     "output_type": "execute_result"
    }
   ],
   "source": [
    "img_draw_ = img_draw *255\n",
    "im2 = Image.fromarray(np.uint8(img_draw_))\n",
    "im2"
   ]
  },
  {
   "cell_type": "code",
   "execution_count": 346,
   "metadata": {},
   "outputs": [],
   "source": [
    "final = np.round(product.detach().numpy())"
   ]
  },
  {
   "cell_type": "code",
   "execution_count": 347,
   "metadata": {},
   "outputs": [],
   "source": [
    "_final = final*255"
   ]
  },
  {
   "cell_type": "code",
   "execution_count": 348,
   "metadata": {},
   "outputs": [],
   "source": [
    "im = Image.fromarray(np.uint8(_final))"
   ]
  },
  {
   "cell_type": "code",
   "execution_count": 349,
   "metadata": {},
   "outputs": [
    {
     "data": {
      "image/png": "[encoded data removed]",
      "text/plain": [
       "<PIL.Image.Image image mode=L size=200x200 at 0x1A1A23EB10>"
      ]
     },
     "execution_count": 349,
     "metadata": {},
     "output_type": "execute_result"
    }
   ],
   "source": [
    "im"
   ]
  },
  {
   "cell_type": "code",
   "execution_count": 332,
   "metadata": {},
   "outputs": [
    {
     "name": "stdout",
     "output_type": "stream",
     "text": [
      "epoch 0, loss -0.193274140358\n",
      "epoch 100, loss -6.01577377319\n",
      "epoch 200, loss -6.7850317955\n",
      "epoch 300, loss -5.45942926407\n",
      "epoch 400, loss -6.00580120087\n",
      "epoch 500, loss -7.43549633026\n",
      "epoch 600, loss -7.74732685089\n",
      "epoch 700, loss -6.12330675125\n",
      "epoch 800, loss -7.63179159164\n",
      "epoch 900, loss -7.57773017883\n",
      "Parameter containing:\n",
      "tensor([[0.8577, 1.0500],\n",
      "        [0.3603, 2.1361]], requires_grad=True)\n",
      "Parameter containing:\n",
      "tensor([-0.9500,  1.1361], requires_grad=True)\n",
      "tensor([[0., 0., 1.],\n",
      "        [0., 0., 1.],\n",
      "        [0., 0., 0.]], grad_fn=<RoundBackward>)\n",
      "tensor([[0.1000, 3.2722],\n",
      "        [0.9577, 3.6325]], grad_fn=<ThAddmmBackward>)\n"
     ]
    }
   ],
   "source": [
    "reload(rsh)\n",
    "# ref = np.array([[0,0,0,1,0,0,1], [0,0,0,1,0,0,1], [0,0,0,1,0,0,1], [0,0,0,1,0,0,1]])\n",
    "# draw = np.array([[0,0,0,1,0,0,1], [0,0,0,1,0,0,1], [0,0,0,1,0,0,1], [0,0,0,1,0,0,1]])\n",
    "\n",
    "ref = np.array([[0,0,1],[0,0,1], [0,0,0]])\n",
    "draw = np.array([[0,1,0],[0,1,0],[0,0,0]])\n",
    "\n",
    "# ref = np.array([[0, 0, 0],[0, 1, 1],[0, 0, 0]])\n",
    "# draw = np.array([[0, 1, 1],[0, 0, 0], [0, 0, 0]])\n",
    "\n",
    "loss, final_draw, product, weights, bias = rsh.minimize_error_gradient(ref, draw)\n",
    "print weights\n",
    "print bias\n",
    "print product\n",
    "print final_draw"
   ]
  },
  {
   "cell_type": "code",
   "execution_count": 284,
   "metadata": {
    "scrolled": true
   },
   "outputs": [
    {
     "name": "stdout",
     "output_type": "stream",
     "text": [
      "tensor([[0., 0., 1.],\n",
      "        [0., 0., 1.],\n",
      "        [0., 0., 0.]], grad_fn=<RoundBackward>)\n"
     ]
    }
   ],
   "source": [
    "print product"
   ]
  },
  {
   "cell_type": "markdown",
   "metadata": {},
   "source": [
    "#### preprocessing of tracing and visualization (if desired)\n"
   ]
  },
  {
   "cell_type": "code",
   "execution_count": null,
   "metadata": {},
   "outputs": [],
   "source": [
    "reallyRun = 1\n",
    "if reallyRun:\n",
    "    rsh.plot_shape(verts_list, codes_list, canvas_side)\n",
    "    #rsh.plot_stroke(verts_list[1], codes_list[1], canvas_side)"
   ]
  },
  {
   "cell_type": "markdown",
   "metadata": {},
   "source": [
    "#### Prepare human rating"
   ]
  },
  {
   "cell_type": "code",
   "execution_count": 59,
   "metadata": {},
   "outputs": [],
   "source": [
    "data = pd.DataFrame(os.listdir(data_dir))\n",
    "data.columns = ['image_id']\n",
    "data.to_csv(os.path.join(analysis_dir,'performance.csv'))"
   ]
  },
  {
   "cell_type": "code",
   "execution_count": 232,
   "metadata": {},
   "outputs": [
    {
     "data": {
      "image/png": "[encoded data removed]",
      "text/plain": [
       "<matplotlib.figure.Figure at 0x1a187e9790>"
      ]
     },
     "metadata": {},
     "output_type": "display_data"
    },
    {
     "name": "stdout",
     "output_type": "stream",
     "text": [
      "kp []\n",
      "des None\n"
     ]
    },
    {
     "data": {
      "image/png": "[encoded data removed]",
      "text/plain": [
       "<matplotlib.figure.Figure at 0x1a187e9750>"
      ]
     },
     "metadata": {},
     "output_type": "display_data"
    },
    {
     "data": {
      "text/plain": [
       "(<matplotlib.image.AxesImage at 0x1a19577250>, None)"
      ]
     },
     "execution_count": 232,
     "metadata": {},
     "output_type": "execute_result"
    }
   ],
   "source": [
    "# Initiate ORB detector\n",
    "orb = cv2.ORB()\n",
    "# find the keypoints with ORB\n",
    "kp = orb.detect(img_draw, None)\n",
    "print 'kp', kp\n",
    "# compute the descriptors with ORB\n",
    "kp, des = orb.compute(img_draw, kp)\n",
    "print 'des', des\n",
    "# draw only keypoints location,not size and orientation\n",
    "img2 = cv2.drawKeypoints(img_draw, kp, None, color=(0,255,0), flags=0)\n",
    "plt.imshow(img2), plt.show()"
   ]
  },
  {
   "cell_type": "code",
   "execution_count": null,
   "metadata": {},
   "outputs": [],
   "source": [
    "matcher = cv2.DescriptorMatcher_create(cv2.DESCRIPTOR_MATCHER_BRUTEFORCE_HAMMING)\n",
    "matches = matcher.match(dsp1, dsp2, None)\n",
    "\n",
    "# Sort matches by score\n",
    "matches.sort(key=lambda x: x.distance, reverse=False)\n",
    " "
   ]
  },
  {
   "cell_type": "code",
   "execution_count": 251,
   "metadata": {},
   "outputs": [
    {
     "data": {
      "image/png": "[encoded data removed]",
      "text/plain": [
       "<matplotlib.figure.Figure at 0x1a198aa1d0>"
      ]
     },
     "metadata": {},
     "output_type": "display_data"
    },
    {
     "data": {
      "text/plain": [
       "(<matplotlib.image.AxesImage at 0x1a19a69ad0>,\n",
       " <function matplotlib.pyplot.show>)"
      ]
     },
     "execution_count": 251,
     "metadata": {},
     "output_type": "execute_result"
    },
    {
     "data": {
      "image/png": "[encoded data removed]",
      "text/plain": [
       "<matplotlib.figure.Figure at 0x1a0b07b390>"
      ]
     },
     "metadata": {},
     "output_type": "display_data"
    }
   ],
   "source": [
    "draw_gabor = np.zeros(img_draw.shape)\n",
    "ref_gabor = np.zeros(img_ref.shape)\n",
    "ksize = 3\n",
    "gabor_kernel = cv2.getGaborKernel((ksize, ksize), 4.0, 180, 10.0, 0.5)\n",
    "draw_gabor = cv2.filter2D(img_draw,-1, gabor_kernel)\n",
    "ref_gabor = cv2.filter2D(img_ref, -1, gabor_kernel)\n",
    "plt.imshow(draw_gabor), plt.show()\n",
    "plt.imshow(ref_gabor), plt.show\n"
   ]
  },
  {
   "cell_type": "code",
   "execution_count": 282,
   "metadata": {
    "scrolled": false
   },
   "outputs": [
    {
     "name": "stdout",
     "output_type": "stream",
     "text": [
      "(1, 1, 200, 200)\n"
     ]
    },
    {
     "data": {
      "image/png": "[encoded data removed]",
      "text/plain": [
       "<matplotlib.figure.Figure at 0x1a1a783810>"
      ]
     },
     "metadata": {},
     "output_type": "display_data"
    },
    {
     "name": "stdout",
     "output_type": "stream",
     "text": [
      "(1, 1, 200, 200)\n"
     ]
    },
    {
     "data": {
      "image/png": "[encoded data removed]",
      "text/plain": [
       "<matplotlib.figure.Figure at 0x1a193ae610>"
      ]
     },
     "metadata": {},
     "output_type": "display_data"
    },
    {
     "name": "stdout",
     "output_type": "stream",
     "text": [
      "tensor([[ 26, 101],\n",
      "        [ 26, 102],\n",
      "        [ 26, 103],\n",
      "        ...,\n",
      "        [190,  92],\n",
      "        [190,  93],\n",
      "        [190,  94]]) tensor([[ 26, 101],\n",
      "        [ 26, 102],\n",
      "        [ 26, 103],\n",
      "        ...,\n",
      "        [190,  92],\n",
      "        [190,  93],\n",
      "        [190,  94]])\n"
     ]
    }
   ],
   "source": [
    "reload(rsh)\n",
    "img_x = rsh.partial_x(torch.tensor(img_draw, dtype=torch.float))\n",
    "print img_x.numpy().shape\n",
    "plt.imshow(img_x.numpy()[0][0]), plt.show()\n",
    "\n",
    "img_y = rsh.partial_y(torch.tensor(img_draw, dtype=torch.float))\n",
    "print img_y.numpy().shape\n",
    "plt.imshow(img_y.numpy()[0][0]), plt.show()\n",
    "\n",
    "grad,theta = rsh.gradient(torch.tensor(img_draw, dtype=torch.float))\n",
    "print grad.nonzero(), theta.nonzero()"
   ]
  },
  {
   "cell_type": "code",
   "execution_count": null,
   "metadata": {},
   "outputs": [],
   "source": []
  }
 ],
 "metadata": {
  "kernelspec": {
   "display_name": "Python 2",
   "language": "python",
   "name": "python2"
  },
  "language_info": {
   "codemirror_mode": {
    "name": "ipython",
    "version": 2
   },
   "file_extension": ".py",
   "mimetype": "text/x-python",
   "name": "python",
   "nbconvert_exporter": "python",
   "pygments_lexer": "ipython2",
   "version": "2.7.14"
  }
 },
 "nbformat": 4,
 "nbformat_minor": 1
}
