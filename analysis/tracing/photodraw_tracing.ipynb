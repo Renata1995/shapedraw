{
 "cells": [
  {
   "cell_type": "code",
   "execution_count": null,
   "metadata": {},
   "outputs": [],
   "source": [
    "## remember to run conn_cocolab from the terminal before running cells in this notebook!\n",
    "import os\n",
    "import urllib, cStringIO\n",
    "\n",
    "import pymongo as pm\n",
    "\n",
    "import matplotlib\n",
    "from matplotlib import pylab, mlab, pyplot\n",
    "%matplotlib inline\n",
    "from IPython.core.pylabtools import figsize, getfigs\n",
    "plt = pyplot\n",
    "import seaborn as sns\n",
    "sns.set_context('poster')\n",
    "sns.set_style('white')\n",
    "\n",
    "import numpy as np\n",
    "from __future__ import division\n",
    "import scipy.stats as stats\n",
    "import pandas as pd\n",
    "import json\n",
    "import re\n",
    "\n",
    "from PIL import Image\n",
    "import base64\n",
    "import datetime\n",
    "\n",
    "import svg_render_helpers as rdh\n",
    "from scipy.spatial import distance"
   ]
  },
  {
   "cell_type": "markdown",
   "metadata": {},
   "source": [
    "### file hierarchy and database connection vars"
   ]
  },
  {
   "cell_type": "code",
   "execution_count": null,
   "metadata": {},
   "outputs": [],
   "source": [
    "## directory & file hierarchy\n",
    "iterationName = 'CDM_photodraw_e1'\n",
    "exp_path = 'photodraw'\n",
    "analysis_dir = os.getcwd()\n",
    "exp_dir = os.path.abspath(os.path.join(os.getcwd(),'../..','experiments'))\n",
    "##\n",
    "tracing_dir = os.path.join(analysis_dir,'photodraw_tracing')\n",
    "if not os.path.exists(tracing_dir):\n",
    "    os.makedirs(tracing_dir)\n",
    "\n",
    "## dir where we can keep all sketches not binned by category    "
   ]
  },
  {
   "cell_type": "code",
   "execution_count": null,
   "metadata": {},
   "outputs": [],
   "source": [
    "# set vars \n",
    "auth = pd.read_csv('auth.txt', header = None) # this auth.txt file contains the password for the sketchloop user\n",
    "pswd = auth.values[0][0]\n",
    "user = 'sketchloop'\n",
    "host = 'rxdhawkins.me' ## cocolab ip address\n",
    "\n",
    "# have to fix this to be able to analyze from local\n",
    "import pymongo as pm\n",
    "conn = pm.MongoClient('mongodb://sketchloop:' + pswd + '@127.0.0.1')\n",
    "db = conn['kiddraw']\n",
    "coll = db['CDM_photodraw_e1']\n"
   ]
  },
  {
   "cell_type": "markdown",
   "metadata": {},
   "source": [
    "### Preprocessing data and rendering images"
   ]
  },
  {
   "cell_type": "markdown",
   "metadata": {},
   "source": [
    "Notes:\n",
    "There are two types of records in the database: 'stroke' and 'finalImage'. This is stored under the key: 'dataType'.\n",
    "The 'stroke'-type of record contains the svg string information. Every stroke event is stored as a separate record.\n",
    "The session identifier is called \"sessionId\".\n",
    "\n",
    "\n"
   ]
  },
  {
   "cell_type": "code",
   "execution_count": null,
   "metadata": {},
   "outputs": [],
   "source": [
    "total_sessions = coll.find().distinct('sessionId') ## this returns ALL sessions in this collection.\n",
    "print 'We currently have {} total sessions.'.format(len(total_sessions))"
   ]
  },
  {
   "cell_type": "code",
   "execution_count": null,
   "metadata": {},
   "outputs": [],
   "source": [
    "## see  https://docs.google.com/spreadsheets/d/1pZ2MFfAjoT_11ZJQcSAjdeA_ZZvRraTZRqkVBcVIXCM/edit#gid=8551646\n",
    "## for information on which \n",
    "exclude_session_id=['CDM_photodraw_e11532109648493',\n",
    "'CDM_photodraw_e11532110198274',\n",
    "'CDM_photodraw_e11532119534231',\n",
    "'CDM_photodraw_e11532120540660',\n",
    "'CDM_photodraw_e11532121593015',\n",
    "'CDM_photodraw_e11532123507785',\n",
    "'CDM_photodraw_e11532454335609',\n",
    "'CDM_photodraw_e11532455751579',\n",
    "'CDM_photodraw_e11532455837908',\n",
    "'CDM_photodraw_e11532463418268',\n",
    "'CDM_photodraw_e11532468803382',\n",
    "'CDM_photodraw_e11532472054977',\n",
    "'CDM_photodraw_e11532540831557',\n",
    "'CDM_photodraw_e11532543365329',\n",
    "'CDM_photodraw_e11532551867786',\n",
    "'CDM_photodraw_e11532556255130',\n",
    "'CDM_photodraw_e11532558764161',\n",
    "'CDM_photodraw_e11533073503103',\n",
    "'CDM_photodraw_e11533144107489',\n",
    "'CDM_photodraw_e11533147048549',\n",
    "'CDM_photodraw_e11532463825380',\n",
    "'CDM_photodraw_e11532461805013',\n",
    "'CDM_photodraw_e11532541701592']"
   ]
  },
  {
   "cell_type": "code",
   "execution_count": null,
   "metadata": {},
   "outputs": [],
   "source": [
    "tracing = ['this circle','this square','this shape']\n",
    "exclude_age = ['age8','age9','age10']\n",
    "\n",
    "image_recs = coll.find({'$and': [{'dataType':'finalImage'}]}).sort('time')  \n",
    "\n",
    "for imrec in image_recs:      \n",
    "    if imrec['sessionId'] not in exclude_session_id and imrec['category'] in tracing and imrec['age'] not in exclude_age:\n",
    "        stroke_recs = coll.find({'$and': [{'sessionId':imrec['sessionId']}, \n",
    "                                {'dataType':'stroke'},\n",
    "                                {'category': imrec['category']}]}).sort('time')  \n",
    "        try:\n",
    "        ## check to make sure that there is at least one stroke! \n",
    "            if stroke_recs.count()>0:\n",
    "\n",
    "                ## some handy metadata for writing out the sketch PNG filename\n",
    "                category = imrec['category']\n",
    "                session_id = imrec['sessionId']\n",
    "                age = imrec['age']\n",
    "\n",
    "                ## now make an svg list!\n",
    "                svg_list = rdh.make_svg_list(stroke_recs)\n",
    "\n",
    "                ## now get me some verts and codes!\n",
    "                Verts, Codes = rdh.get_verts_and_codes(svg_list)\n",
    "                outpath = os.path.join(tracing_dir,'{}_{}'.format(session_id, age))\n",
    "\n",
    "                ## now render out your cumulative sketches and save out as pngs!\n",
    "                rdh.render_and_save(Verts,\n",
    "                                Codes,\n",
    "                                outpath,\n",
    "                                line_width=3,\n",
    "                                imsize=200,\n",
    "                                canvas_size=696,\n",
    "                                category=category)\n",
    "                \n",
    "        except Exception as e:\n",
    "            print 'Oops, something went wrong! Here is the error:'  \n",
    "            print e\n",
    "            pass\n",
    "\n"
   ]
  },
  {
   "cell_type": "code",
   "execution_count": null,
   "metadata": {},
   "outputs": [],
   "source": []
  }
 ],
 "metadata": {
  "kernelspec": {
   "display_name": "Python 2",
   "language": "python",
   "name": "python2"
  },
  "language_info": {
   "codemirror_mode": {
    "name": "ipython",
    "version": 2
   },
   "file_extension": ".py",
   "mimetype": "text/x-python",
   "name": "python",
   "nbconvert_exporter": "python",
   "pygments_lexer": "ipython2",
   "version": "2.7.14"
  }
 },
 "nbformat": 4,
 "nbformat_minor": 1
}
