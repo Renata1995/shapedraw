{
 "cells": [
  {
   "cell_type": "code",
   "execution_count": 1,
   "metadata": {},
   "outputs": [],
   "source": [
    "# import torch as th\n",
    "\n",
    "import matplotlib.pyplot as plt\n",
    "import time\n",
    "\n",
    "import sys\n",
    "import os\n",
    "from __future__ import division\n",
    "import os\n",
    "import urllib, cStringIO\n",
    "import pymongo as pm ## first establish ssh tunnel to server where database is running\n",
    "import base64\n",
    "import numpy as np\n",
    "from numpy import *\n",
    "import PIL\n",
    "from PIL import Image\n",
    "import base64\n",
    "import matplotlib\n",
    "%matplotlib inline\n",
    "from matplotlib import pylab, mlab, pyplot\n",
    "from IPython.core.pylabtools import figsize, getfigs\n",
    "plt = pyplot\n",
    "import seaborn as sns\n",
    "sns.set_context('poster')\n",
    "sns.set_style('white')\n",
    "from matplotlib.path import Path\n",
    "import matplotlib.patches as patches\n",
    "import cv2\n",
    "import pandas as pd\n",
    "from svgpathtools import parse_path\n",
    "import svg_distance_helpers as rsh\n",
    "# import torch\n",
    "# from torch.autograd import Variable\n",
    "# import SimpleITK as sitk\n",
    "# from torch.autograd import Variable\n"
   ]
  },
  {
   "cell_type": "markdown",
   "metadata": {},
   "source": [
    "#### File Hierarchy"
   ]
  },
  {
   "cell_type": "code",
   "execution_count": null,
   "metadata": {},
   "outputs": [],
   "source": [
    "# directory & file hierarchy\n",
    "analysis_dir = os.getcwd()\n",
    "data_dir = os.path.join(analysis_dir,\"tracing_overlap\")\n",
    "ref_dir = os.path.join(analysis_dir, 'tracing_ref_400')\n",
    "tracing = ['square','shape', 'this circle']"
   ]
  },
  {
   "cell_type": "markdown",
   "metadata": {},
   "source": [
    "#### Set Up"
   ]
  },
  {
   "cell_type": "code",
   "execution_count": null,
   "metadata": {},
   "outputs": [],
   "source": [
    "really_run_this = 0\n",
    "if really_run_this:\n",
    "    dir_name = 'tracing_overlap2'\n",
    "\n",
    "    for sub_dir in os.listdir(dir_name):\n",
    "        if sub_dir != '.DS_Store':\n",
    "    #         for s in ['square', 'shape']:\n",
    "    #         for s in ['circle']:\n",
    "                s_dir = os.path.join(analysis_dir, dir_name, sub_dir, s)\n",
    "                if os.path.exists(s_dir):\n",
    "                    for f in os.listdir(s_dir):\n",
    "                        if f.endswith('png'):\n",
    "                            new_fname = f.split('_')\n",
    "                            new_fname.insert(4, 'tracing')\n",
    "                            new_fname = os.path.join(analysis_dir, dir_name, sub_dir, s, '_'.join(new_fname))\n",
    "                            old_fname = os.path.join(analysis_dir, dir_name, sub_dir, s, f)\n",
    "                            os.rename(old_fname, new_fname)\n",
    "    "
   ]
  },
  {
   "cell_type": "code",
   "execution_count": null,
   "metadata": {},
   "outputs": [],
   "source": [
    "really_run_this = 0\n",
    "if really_run_this:\n",
    "    # Overlap the drawing on reference images\n",
    "    iteration_name = 'cdm_run_v4'# name labels used in kiddraw database\n",
    "    dname = 'museumstation_v4' # name labels will be used for new data storage \n",
    "    tname = 'this square'\n",
    "\n",
    "    # input folder\n",
    "    current_data_dir = os.path.join(analysis_dir,\"exp_data\", \"tracing_{}\".format(iteration_name),tname)\n",
    "\n",
    "    #output folder\n",
    "    overlap_dir = os.path.join(analysis_dir, 'tracing_overlap2')\n",
    "    overlap_t = os.path.join(overlap_dir, dname, tname)\n",
    "    if not os.path.exists(overlap_t):\n",
    "        os.makedirs(overlap_t)\n",
    "\n",
    "    for fname in os.listdir(current_data_dir):\n",
    "        if fname.startswith('age'):\n",
    "            img_draw = os.path.join(current_data_dir, fname)\n",
    "            img_ref = os.path.join(ref_dir, 'square_ref.png')\n",
    "\n",
    "            draw = cv2.imread(img_draw).astype(int16)\n",
    "            ref = cv2.imread(img_ref).astype(int16)\n",
    "            img = ref\n",
    "            img[np.sum(ref, axis=2)<255*3] = [150, 150, 150]\n",
    "            img[np.sum(draw, axis=2)<255*3] = [40, 40, 170]\n",
    "\n",
    "            split_fname = fname.split('_')\n",
    "            age = split_fname[0]\n",
    "            timestamp = split_fname[3][2:]\n",
    "            new_fname = \"{}_{}_{}_{}.png\".format(age, dname, timestamp, 'copy_square')\n",
    "            cv2.imwrite(os.path.join(overlap_t, new_fname), img)"
   ]
  },
  {
   "cell_type": "markdown",
   "metadata": {},
   "source": [
    "#### upload stims to s3"
   ]
  },
  {
   "cell_type": "markdown",
   "metadata": {
    "scrolled": true
   },
   "source": [
    "Execute python script at command line by running: `python upload_stims_to_s3.py --bucket_name kiddraw-tracing --path_to_imgs ./tracing_eval_stims`"
   ]
  },
  {
   "cell_type": "markdown",
   "metadata": {},
   "source": [
    "#### build stimulus dictionary & upload metadata to mongo"
   ]
  },
  {
   "cell_type": "code",
   "execution_count": null,
   "metadata": {
    "scrolled": false
   },
   "outputs": [],
   "source": [
    "# read in data from csv files\n",
    "this_sq = pd.read_csv('exp_data/MuseumStation_Tracing_Descriptives_v4_this_square.csv')\n",
    "limit = 300\n",
    "data = []\n",
    "\n",
    "for a in range(2,11):\n",
    "    current = this_sq.loc[(this_sq['age'] == 'age{}'.format(a) )][:limit]\n",
    "    data.append(current)\n",
    "\n",
    "overall = pd.concat(data)\n",
    "for a in range(2,11):\n",
    "    print a, overall.loc[(overall['age'] == 'age{}'.format(a))].shape\n",
    "\n",
    "overall = overall.drop(['filename', \"Unnamed: 0\"], axis=1)\n",
    "overall.reset_index(inplace = True)"
   ]
  },
  {
   "cell_type": "code",
   "execution_count": null,
   "metadata": {
    "scrolled": true
   },
   "outputs": [],
   "source": [
    "overall['exp_name'] = 0\n",
    "overall['iteration_name'] = 0\n",
    "overall['timestamp'] = 0\n",
    "overall['img_url'] = 0\n",
    "overall['number_rating_levels'] = 5\n",
    "overall['lower_bound'] = 'poor'\n",
    "overall['upper_bound'] = 'excellent' \n",
    "overall['has_ref'] = False\n",
    "\n",
    "category = 'copy_square'\n",
    "for index, row in overall.iterrows():\n",
    "    sid = row['session_id']    \n",
    "    overall.loc[index,'exp_name'] = 'museumstation'\n",
    "    overall.loc[index,'iteration_name'] = sid.split('_')[2][:2]\n",
    "    \n",
    "    timestamp = row['session_id'].split('_')[-1][2:]\n",
    "    overall.loc[index, 'timestamp'] = timestamp\n",
    "    \n",
    "    fname = '{}_{}_{}_{}_{}.png'.format(row['age'], overall.loc[index,'exp_name'],overall.loc[index,'iteration_name'], timestamp, category)\n",
    "    \n",
    "    folder_name = '{}_{}'.format(overall.loc[index,'exp_name'], overall.loc[index,'iteration_name'])\n",
    "    render_fname = os.path.join(data_dir, folder_name, category, fname)\n",
    "    \n",
    "    if not os.path.exists(render_fname):\n",
    "        print index, render_fname\n",
    "        overall = overall.drop(index)\n",
    "        continue\n",
    "    \n",
    "    overall.loc[index,'img_url'] = 'https://s3.amazonaws.com/{}/{}'.format('kiddraw-tracing-2',fname)\n",
    "    overall.loc[index,'games'] = '[]'\n",
    "    overall.loc[index,'category'] = 'square'\n",
    "    overall.loc[index,'age'] = overall.loc[index,'age'].replace('age','')\n",
    "\n",
    "overall['age'] = pd.to_numeric(overall['age'])\n"
   ]
  },
  {
   "cell_type": "code",
   "execution_count": null,
   "metadata": {},
   "outputs": [],
   "source": [
    "try:\n",
    "    overall = overall.drop('index', axis=1)\n",
    "except:\n",
    "    pass\n",
    "\n",
    "bin_limit = 80\n",
    "for a in range(2,11):\n",
    "    drop_index = overall.index[(overall['age'] == a)].tolist()[bin_limit:]\n",
    "    overall = overall.drop(drop_index)\n",
    "    print a, overall.loc[(overall['age'] == a)].shape\n",
    "\n"
   ]
  },
  {
   "cell_type": "code",
   "execution_count": null,
   "metadata": {},
   "outputs": [],
   "source": [
    "## apply weird literal eval hack to convert string into regular list\n",
    "import ast\n",
    "overall['games'] = '[]'\n",
    "overall['games'] = overall['games'].apply(lambda x: ast.literal_eval(x))\n",
    "print overall.shape"
   ]
  },
  {
   "cell_type": "code",
   "execution_count": null,
   "metadata": {},
   "outputs": [],
   "source": [
    "# insert shuffler_ind\n",
    "data_range = np.arange(overall.shape[0])\n",
    "np.random.shuffle(data_range)\n",
    "overall['shuffler_ind'] = data_range"
   ]
  },
  {
   "cell_type": "code",
   "execution_count": null,
   "metadata": {},
   "outputs": [],
   "source": [
    "try:\n",
    "    overall = overall.drop('index', axis=1)\n",
    "except:\n",
    "    pass\n",
    "\n",
    "## save out data frame as csv for our own records\n",
    "overall.to_csv('kiddraw_tracing_eval_square_copy.csv',index=False)"
   ]
  },
  {
   "cell_type": "code",
   "execution_count": null,
   "metadata": {},
   "outputs": [],
   "source": [
    "## convert 'overall' pandas dataframe to json object and save out\n",
    "import json\n",
    "stimdict = overall.to_dict(orient='records') \n",
    "with open('{}.js'.format('kiddraw_tracing_eval_square_copy'), 'w') as fout:\n",
    "    json.dump(stimdict, fout)"
   ]
  },
  {
   "cell_type": "markdown",
   "metadata": {},
   "source": [
    "### load JSON back in to inspect before uploading to mongo"
   ]
  },
  {
   "cell_type": "code",
   "execution_count": 2,
   "metadata": {},
   "outputs": [
    {
     "name": "stdout",
     "output_type": "stream",
     "text": [
      "next todo is to upload this JSON to initialize the new stimulus collection...\n"
     ]
    }
   ],
   "source": [
    "### define datasetname\n",
    "dataset_name = 'kiddraw_tracing_eval_square_copy' # production mode\n",
    "\n",
    "### next todo is to upload this JSON to initialize the new stimulus collection\n",
    "print('next todo is to upload this JSON to initialize the new stimulus collection...')\n",
    "import json\n",
    "J = json.loads(open('{}.js'.format(dataset_name),mode='ru').read())"
   ]
  },
  {
   "cell_type": "code",
   "execution_count": null,
   "metadata": {},
   "outputs": [],
   "source": [
    "##assert len(J)==len(all_files)\n",
    "print 'dataset_name: {}'.format(dataset_name)\n",
    "print len(J)"
   ]
  },
  {
   "cell_type": "code",
   "execution_count": null,
   "metadata": {},
   "outputs": [],
   "source": [
    "## look at one example record\n",
    "J[0]"
   ]
  },
  {
   "cell_type": "code",
   "execution_count": 3,
   "metadata": {},
   "outputs": [],
   "source": [
    "# set vars \n",
    "auth = pd.read_csv('auth.txt', header = None) # this auth.txt file contains the password for the sketchloop user\n",
    "pswd = auth.values[0][0]\n",
    "user = 'sketchloop'\n",
    "host = 'rxdhawkins.me' ## cocolab ip address\n",
    "\n",
    "# have to fix this to be able to analyze from local\n",
    "conn = pm.MongoClient('mongodb://sketchloop:' + pswd + '@127.0.0.1')\n",
    "db = conn['stimuli']\n",
    "\n",
    "dev_name = 'kiddraw_tracing_eval_square_copy_dev' # development mode\n",
    "coll = db[dataset_name]\n",
    "dev_coll = db[dev_name]"
   ]
  },
  {
   "cell_type": "code",
   "execution_count": null,
   "metadata": {},
   "outputs": [],
   "source": [
    "reallyRun = 0\n",
    "if reallyRun:\n",
    "    coll.drop()\n",
    "print 'Currently there are {} tracings in the production collection'.format(coll.count())"
   ]
  },
  {
   "cell_type": "code",
   "execution_count": null,
   "metadata": {
    "scrolled": true
   },
   "outputs": [],
   "source": [
    "from IPython.display import clear_output\n",
    "## actually add data now to the database\n",
    "reallyRun = 1\n",
    "if reallyRun:\n",
    "    for (i,j) in enumerate(J):\n",
    "        if i%1==0:\n",
    "            print ('%d of %d' % (i,len(J)))\n",
    "            clear_output(wait=True)\n",
    "        coll.insert(j)"
   ]
  },
  {
   "cell_type": "code",
   "execution_count": null,
   "metadata": {},
   "outputs": [],
   "source": [
    "reallyRun = 1\n",
    "if reallyRun:\n",
    "    dev_coll.drop()\n",
    "print 'Currently there are {} tracings in the development collection'.format(dev_coll.count())"
   ]
  },
  {
   "cell_type": "code",
   "execution_count": null,
   "metadata": {},
   "outputs": [],
   "source": [
    "# set the dev collection\n",
    "reallyRun = 1\n",
    "if reallyRun:\n",
    "    for (i,j) in enumerate(J):\n",
    "        if i%1==0:\n",
    "            print ('%d of %d' % (i,len(J)))\n",
    "            clear_output(wait=True)\n",
    "        dev_coll.insert(j)"
   ]
  },
  {
   "cell_type": "code",
   "execution_count": 4,
   "metadata": {},
   "outputs": [
    {
     "name": "stdout",
     "output_type": "stream",
     "text": [
      "Currently there are 713 tracings in the production collection\n",
      "Currently there are 713 tracings in the development collection\n",
      "0.0\n"
     ]
    }
   ],
   "source": [
    "## check how many records have been retrieved\n",
    "print 'Currently there are {} tracings in the production collection'.format(coll.count())\n",
    "print 'Currently there are {} tracings in the development collection'.format(dev_coll.count())\n",
    "\n",
    "a = coll.find({'num_strokes':{'$gte':0}}).sort('timestamp')\n",
    "numGames = []\n",
    "for rec in a:\n",
    "    numGames.append(len(rec['games']))\n",
    "b = np.array(numGames)\n",
    "print np.mean(b>0)"
   ]
  },
  {
   "cell_type": "code",
   "execution_count": 5,
   "metadata": {},
   "outputs": [
    {
     "name": "stdout",
     "output_type": "stream",
     "text": [
      "Currentely, there are 713 number of tracing stimuli in the database\n"
     ]
    },
    {
     "data": {
      "text/plain": [
       "{u'_id': ObjectId('5c5c1b451943e60fb0c105bf'),\n",
       " u'age': 2,\n",
       " u'bounding_box': u'(0, 370, 83, 399)',\n",
       " u'category': u'square',\n",
       " u'draw_duration_new': 3.67,\n",
       " u'draw_duration_old': 0.0,\n",
       " u'exp_name': u'museumstation',\n",
       " u'games': [],\n",
       " u'has_ref': False,\n",
       " u'img_url': u'https://s3.amazonaws.com/kiddraw-tracing-2/age2_museumstation_v4_1536256584193_copy_square.png',\n",
       " u'iteration_name': u'v4',\n",
       " u'lower_bound': u'poor',\n",
       " u'mean_intensity': 0.09276875,\n",
       " u'num_strokes': 1,\n",
       " u'number_rating_levels': 5,\n",
       " u'session_id': u'cdm_run_v41536256584193',\n",
       " u'shuffler_ind': 234,\n",
       " u'submit_date': u'2018-09-06T18:08:31.999Z',\n",
       " u'submit_time': 1536257311999.0,\n",
       " u'timestamp': u'1536256584193',\n",
       " u'trial_duration': 7.61,\n",
       " u'trial_num': 3,\n",
       " u'upper_bound': u'excellent'}"
      ]
     },
     "execution_count": 5,
     "metadata": {},
     "output_type": "execute_result"
    }
   ],
   "source": [
    "print \"Currentely, there are {} number of tracing stimuli in the database\".format(coll.count())\n",
    "coll.find_one()"
   ]
  },
  {
   "cell_type": "code",
   "execution_count": 6,
   "metadata": {},
   "outputs": [
    {
     "data": {
      "text/plain": [
       "{u'_id': ObjectId('5c5c1b451943e60fb0c105bf'),\n",
       " u'age': 2,\n",
       " u'bounding_box': u'(0, 370, 83, 399)',\n",
       " u'category': u'square',\n",
       " u'draw_duration_new': 3.67,\n",
       " u'draw_duration_old': 0.0,\n",
       " u'exp_name': u'museumstation',\n",
       " u'games': [],\n",
       " u'has_ref': False,\n",
       " u'img_url': u'https://s3.amazonaws.com/kiddraw-tracing-2/age2_museumstation_v4_1536256584193_copy_square.png',\n",
       " u'iteration_name': u'v4',\n",
       " u'lower_bound': u'poor',\n",
       " u'mean_intensity': 0.09276875,\n",
       " u'num_strokes': 1,\n",
       " u'number_rating_levels': 5,\n",
       " u'session_id': u'cdm_run_v41536256584193',\n",
       " u'shuffler_ind': 234,\n",
       " u'submit_date': u'2018-09-06T18:08:31.999Z',\n",
       " u'submit_time': 1536257311999.0,\n",
       " u'timestamp': u'1536256584193',\n",
       " u'trial_duration': 7.61,\n",
       " u'trial_num': 3,\n",
       " u'upper_bound': u'excellent'}"
      ]
     },
     "execution_count": 6,
     "metadata": {},
     "output_type": "execute_result"
    }
   ],
   "source": [
    "dev_coll.find_one()"
   ]
  },
  {
   "cell_type": "code",
   "execution_count": null,
   "metadata": {},
   "outputs": [],
   "source": []
  },
  {
   "cell_type": "code",
   "execution_count": null,
   "metadata": {},
   "outputs": [],
   "source": []
  },
  {
   "cell_type": "code",
   "execution_count": null,
   "metadata": {},
   "outputs": [],
   "source": []
  },
  {
   "cell_type": "code",
   "execution_count": null,
   "metadata": {},
   "outputs": [],
   "source": []
  }
 ],
 "metadata": {
  "kernelspec": {
   "display_name": "Python 2",
   "language": "python",
   "name": "python2"
  },
  "language_info": {
   "codemirror_mode": {
    "name": "ipython",
    "version": 2
   },
   "file_extension": ".py",
   "mimetype": "text/x-python",
   "name": "python",
   "nbconvert_exporter": "python",
   "pygments_lexer": "ipython2",
   "version": "2.7.3"
  }
 },
 "nbformat": 4,
 "nbformat_minor": 1
}
