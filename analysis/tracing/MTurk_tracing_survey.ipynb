{
 "cells": [
  {
   "cell_type": "code",
   "execution_count": null,
   "metadata": {},
   "outputs": [],
   "source": [
    "import numpy as np"
   ]
  },
  {
   "cell_type": "code",
   "execution_count": null,
   "metadata": {},
   "outputs": [],
   "source": [
    "# Adapted from Kunshin's code\n",
    "# Budget and payment standards\n",
    "budget_cap = 100\n",
    "hour_rate = 7\n",
    "min_rate = hour_rate/60.0\n",
    "second_rate = min_rate/60.0\n",
    "amt_commission = 0.2\n",
    "\n",
    "# Game information \n",
    "time_per_trial_sec = 5 # it takes 0.5s to load the stimulus and around 1-3s to rate the stimulus\n",
    "instruction_read_sec = 120 # it takes around 1-2min to read the instruction\n",
    "num_ratings_per_tracing = 3 # assume each trial requires at least <num_ratings_per_tracing> rating labels\n",
    "max_time_per_game = 10 # assume each game lasts at most 10 minutes\n",
    "num_trials_per_game = 50\n",
    "\n",
    "num_trials_per_game = int(np.floor( (max_time_per_game * 60 - instruction_read_sec)/time_per_trial_sec ))\n",
    "print 'Assume each game lasts at most {} minutes, we expect that each game contains {} trials.'.format(max_time_per_game, num_trials_per_game)\n",
    "\n",
    "cost_single_trial = time_per_trial_sec * second_rate\n",
    "print 'We expect to pay out approx. ${:.2f} per trial.'.format(cost_single_trial)\n",
    "\n",
    "cost_instruction = instruction_read_sec * second_rate \n",
    "print 'We expect to pay out approx. ${:.2f} for reading instructions per mturker.'.format(cost_instruction)\n",
    "\n",
    "cost_single_game = (cost_single_trial * num_trials_per_game + cost_instruction) * (1 + amt_commission)\n",
    "print 'We expect to pay out approx. ${:.2f} per game.'.format(cost_single_game)\n",
    "\n",
    "num_games = int(np.floor(budget_cap/cost_single_game)) \n",
    "print 'We have enough money to run approx. {} games.'.format(num_games)\n",
    "\n",
    "num_trials = num_games * num_trials_per_game\n",
    "print 'We have enough money to run approx. {} trials.'.format(num_trials)\n",
    "\n",
    "num_stimuli = int(np.floor(num_trials/num_ratings_per_tracing))\n",
    "print 'We have enough money to run approx. {} stimuli.'.format(num_stimuli)"
   ]
  },
  {
   "cell_type": "code",
   "execution_count": null,
   "metadata": {},
   "outputs": [],
   "source": []
  }
 ],
 "metadata": {
  "kernelspec": {
   "display_name": "Python 2",
   "language": "python",
   "name": "python2"
  },
  "language_info": {
   "codemirror_mode": {
    "name": "ipython",
    "version": 2
   },
   "file_extension": ".py",
   "mimetype": "text/x-python",
   "name": "python",
   "nbconvert_exporter": "python",
   "pygments_lexer": "ipython2",
   "version": "2.7.3"
  }
 },
 "nbformat": 4,
 "nbformat_minor": 2
}
