{
 "cells": [
  {
   "cell_type": "code",
   "execution_count": 1,
   "metadata": {},
   "outputs": [],
   "source": [
    "from __future__ import division\n",
    "import os\n",
    "import pymongo as pm ## first establish ssh tunnel to server where database is running\n",
    "import base64\n",
    "import numpy as np\n",
    "from numpy import *\n",
    "import PIL\n",
    "from PIL import Image, ImageOps\n",
    "import base64\n",
    "import matplotlib\n",
    "%matplotlib inline\n",
    "from matplotlib import pylab, mlab, pyplot\n",
    "from IPython.core.pylabtools import figsize, getfigs\n",
    "plt = pyplot\n",
    "import seaborn as sns\n",
    "sns.set_context('poster')\n",
    "sns.set_style('white')\n",
    "from matplotlib.path import Path\n",
    "import matplotlib.patches as patches\n",
    "import cv2\n",
    "import pandas as pd\n",
    "from svgpathtools import parse_path\n",
    "import svg_distance_helpers as rsh\n",
    "import svg_render_helpers as rrh"
   ]
  },
  {
   "cell_type": "markdown",
   "metadata": {},
   "source": [
    "#### directory and file hierarchy"
   ]
  },
  {
   "cell_type": "code",
   "execution_count": 2,
   "metadata": {},
   "outputs": [],
   "source": [
    "# directory & file hierarchy\n",
    "analysis_dir = os.getcwd()\n",
    "ref_dir = os.path.join(analysis_dir, 'reference')\n",
    "data_dir = os.path.join(analysis_dir,'tracing')"
   ]
  },
  {
   "cell_type": "markdown",
   "metadata": {},
   "source": [
    "### read in tracing and reference data"
   ]
  },
  {
   "cell_type": "code",
   "execution_count": 3,
   "metadata": {},
   "outputs": [
    {
     "data": {
      "text/plain": [
       "<module 'svg_distance_helpers' from 'svg_distance_helpers.pyc'>"
      ]
     },
     "execution_count": 3,
     "metadata": {},
     "output_type": "execute_result"
    }
   ],
   "source": [
    "reload(rsh)"
   ]
  },
  {
   "cell_type": "code",
   "execution_count": 4,
   "metadata": {
    "scrolled": true
   },
   "outputs": [
    {
     "name": "stdout",
     "output_type": "stream",
     "text": [
      "Number of pixels marked in the tracing = 93\n",
      "Number of pixels marked in the reference = 92\n"
     ]
    }
   ],
   "source": [
    "reload(rsh)\n",
    "# read in tracing data\n",
    "fpath = os.path.join(data_dir, 'test40.png')\n",
    "tra = rsh.load_preprocess_tracing(fpath, threshold = 100, img_size = 56, invert=True)\n",
    "print 'Number of pixels marked in the tracing = {}'.format(np.sum(tra==255))\n",
    "\n",
    "# read in reference data\n",
    "fpath = os.path.join(ref_dir, 'square_50.png')\n",
    "ref = rsh.load_preprocess_tracing(fpath, threshold = 50, img_size = 56, invert=False)\n",
    "print 'Number of pixels marked in the reference = {}'.format(np.sum(ref==255))"
   ]
  },
  {
   "cell_type": "code",
   "execution_count": 5,
   "metadata": {},
   "outputs": [
    {
     "data": {
      "image/png": "[encoded data removed]",
      "text/plain": [
       "<PIL.Image.Image image mode=L size=56x56 at 0x7F50DCD32DD0>"
      ]
     },
     "execution_count": 5,
     "metadata": {},
     "output_type": "execute_result"
    }
   ],
   "source": [
    "Image.fromarray(tra)"
   ]
  },
  {
   "cell_type": "code",
   "execution_count": 8,
   "metadata": {},
   "outputs": [
    {
     "data": {
      "image/png": "[encoded data removed]",
      "text/plain": [
       "<PIL.Image.Image image mode=L size=56x56 at 0x7F50DCD32B10>"
      ]
     },
     "execution_count": 8,
     "metadata": {},
     "output_type": "execute_result"
    }
   ],
   "source": [
    "Image.fromarray(ref)"
   ]
  },
  {
   "cell_type": "markdown",
   "metadata": {},
   "source": [
    "### apply transform and minimize KL between tracing and reference"
   ]
  },
  {
   "cell_type": "code",
   "execution_count": 18,
   "metadata": {},
   "outputs": [],
   "source": [
    "img_ref = ref/255\n",
    "img_draw = tra/255"
   ]
  },
  {
   "cell_type": "code",
   "execution_count": null,
   "metadata": {
    "scrolled": false
   },
   "outputs": [
    {
     "name": "stdout",
     "output_type": "stream",
     "text": [
      "step: 0 of 1000 | loss: 0.178975209594 | weights: [[1.0003085e+00 4.9266968e-10]\n",
      " [1.5832485e-11 1.0003085e+00]] \n",
      "step: 10 of 1000 | loss: 4.64412212372 | weights: [[ 0.92702186 -0.09628707]\n",
      " [-0.09627899  0.92702997]] \n",
      "step: 20 of 1000 | loss: 4.64762687683 | weights: [[ 0.93429726 -0.09869675]\n",
      " [-0.10204817  0.9312664 ]] \n",
      "step: 30 of 1000 | loss: 4.61966180801 | weights: [[ 0.93008006 -0.10386329]\n",
      " [-0.10125852  0.9339999 ]] \n",
      "step: 40 of 1000 | loss: 4.64530420303 | weights: [[ 0.9362393  -0.10054561]\n",
      " [-0.10369971  0.9314055 ]] \n",
      "step: 50 of 1000 | loss: 4.6279168129 | weights: [[ 0.93338734 -0.10145687]\n",
      " [-0.10240125  0.93144554]] \n",
      "step: 60 of 1000 | loss: 4.63962936401 | weights: [[ 0.93646866 -0.10450611]\n",
      " [-0.1015712   0.9334806 ]] \n",
      "step: 70 of 1000 | loss: 4.61544179916 | weights: [[ 0.93439513 -0.10591932]\n",
      " [-0.10311057  0.9315931 ]] \n",
      "step: 80 of 1000 | loss: 4.63548183441 | weights: [[ 0.9325175  -0.10676827]\n",
      " [-0.10193596  0.93601125]] \n",
      "step: 90 of 1000 | loss: 4.61354827881 | weights: [[ 0.93745357 -0.11287942]\n",
      " [-0.10690828  0.9358994 ]] \n",
      "step: 100 of 1000 | loss: 4.59120607376 | weights: [[ 0.946404   -0.12011534]\n",
      " [-0.11497016  0.9414954 ]] \n",
      "step: 110 of 1000 | loss: 4.56492519379 | weights: [[ 0.9519945  -0.1314124 ]\n",
      " [-0.12513465  0.9500558 ]] \n",
      "step: 120 of 1000 | loss: 4.55661916733 | weights: [[ 0.96103835 -0.13065547]\n",
      " [-0.13377418  0.95420974]] \n",
      "step: 130 of 1000 | loss: 4.54101991653 | weights: [[ 0.9640979  -0.13578343]\n",
      " [-0.13570127  0.96051747]] \n",
      "step: 140 of 1000 | loss: 4.50822687149 | weights: [[ 0.9712948  -0.14207123]\n",
      " [-0.14432506  0.9732562 ]] \n",
      "step: 150 of 1000 | loss: 4.51660394669 | weights: [[ 0.97463727 -0.15099631]\n",
      " [-0.14883874  0.98059356]] \n",
      "step: 160 of 1000 | loss: 4.48558759689 | weights: [[ 0.98458165 -0.1553394 ]\n",
      " [-0.15438186  1.0170487 ]] \n",
      "step: 170 of 1000 | loss: 4.33594465256 | weights: [[ 0.9959876  -0.15769476]\n",
      " [-0.1638984   1.034493  ]] \n"
     ]
    }
   ],
   "source": [
    "reload(rsh)\n",
    "loss, final_draw, product, weights, bias = rsh.minimize_error_soft_index(img_ref, img_ref)\n",
    "print('Loss: {}   Weights:  {}   Bias: {}'.format(loss, weights, bias))"
   ]
  },
  {
   "cell_type": "code",
   "execution_count": 16,
   "metadata": {},
   "outputs": [],
   "source": [
    "xform_tracing_array = product.data.numpy()\n",
    "xform_tracing_255 = np.uint8(np.round(xform_tracing_array)*255)\n",
    "xform_tracing_im = Image.fromarray(xform_tracing_255)"
   ]
  },
  {
   "cell_type": "code",
   "execution_count": 17,
   "metadata": {},
   "outputs": [
    {
     "data": {
      "image/png": "[encoded data removed]",
      "text/plain": [
       "<PIL.Image.Image image mode=L size=200x200 at 0x7F50A038DD90>"
      ]
     },
     "execution_count": 17,
     "metadata": {},
     "output_type": "execute_result"
    }
   ],
   "source": [
    "xform_tracing_im.resize((200,200),Image.ANTIALIAS)"
   ]
  },
  {
   "cell_type": "code",
   "execution_count": null,
   "metadata": {},
   "outputs": [],
   "source": [
    "orig_tracing_im = Image.fromarray(np.uint8(img_draw*255))\n",
    "orig_tracing_im.resize((200,200),Image.ANTIALIAS)"
   ]
  },
  {
   "cell_type": "code",
   "execution_count": null,
   "metadata": {},
   "outputs": [],
   "source": [
    "orig_ref_im = Image.fromarray(np.uint8(img_ref*255))\n",
    "orig_ref_im.resize((200,200),Image.ANTIALIAS)"
   ]
  },
  {
   "cell_type": "code",
   "execution_count": null,
   "metadata": {},
   "outputs": [],
   "source": []
  },
  {
   "cell_type": "code",
   "execution_count": null,
   "metadata": {},
   "outputs": [],
   "source": []
  },
  {
   "cell_type": "code",
   "execution_count": null,
   "metadata": {},
   "outputs": [],
   "source": [
    "# reload(rsh)\n",
    "# # ref = np.array([[0,0,0,1,0,0,1], [0,0,0,1,0,0,1], [0,0,0,1,0,0,1], [0,0,0,1,0,0,1]])\n",
    "# # draw = np.array([[0,0,0,1,0,0,1], [0,0,0,1,0,0,1], [0,0,0,1,0,0,1], [0,0,0,1,0,0,1]])\n",
    "\n",
    "# ref = np.array([[0,0,1],[0,0,1],[0,0,0]])\n",
    "# draw = np.array([[0,1,0],[0,1,0],[0,0,0]])\n",
    "\n",
    "# loss, final_draw, product, weights, bias = rsh.minimize_error_soft_index(ref, draw)\n",
    "# print weights\n",
    "# print bias\n",
    "# print product.long()\n",
    "# print final_draw"
   ]
  },
  {
   "cell_type": "code",
   "execution_count": null,
   "metadata": {},
   "outputs": [],
   "source": [
    "kl = nn.KLDivLoss()\n",
    "loss = kl(product, img_ref) * 100"
   ]
  }
 ],
 "metadata": {
  "kernelspec": {
   "display_name": "Python 2",
   "language": "python",
   "name": "python2"
  },
  "language_info": {
   "codemirror_mode": {
    "name": "ipython",
    "version": 2
   },
   "file_extension": ".py",
   "mimetype": "text/x-python",
   "name": "python",
   "nbconvert_exporter": "python",
   "pygments_lexer": "ipython2",
   "version": "2.7.12"
  }
 },
 "nbformat": 4,
 "nbformat_minor": 1
}
