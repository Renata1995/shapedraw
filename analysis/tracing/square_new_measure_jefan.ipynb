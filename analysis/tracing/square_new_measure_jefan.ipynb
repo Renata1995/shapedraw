{
 "cells": [
  {
   "cell_type": "code",
   "execution_count": 287,
   "metadata": {},
   "outputs": [],
   "source": [
    "from __future__ import division\n",
    "import os\n",
    "import pymongo as pm ## first establish ssh tunnel to server where database is running\n",
    "import base64\n",
    "import numpy as np\n",
    "from numpy import *\n",
    "import PIL\n",
    "from PIL import Image, ImageOps\n",
    "import base64\n",
    "import matplotlib\n",
    "%matplotlib inline\n",
    "from matplotlib import pylab, mlab, pyplot\n",
    "from IPython.core.pylabtools import figsize, getfigs\n",
    "plt = pyplot\n",
    "import seaborn as sns\n",
    "sns.set_context('poster')\n",
    "sns.set_style('white')\n",
    "from matplotlib.path import Path\n",
    "import matplotlib.patches as patches\n",
    "import cv2\n",
    "import pandas as pd\n",
    "from svgpathtools import parse_path\n",
    "import svg_distance_helpers as rsh\n",
    "import svg_render_helpers as rrh"
   ]
  },
  {
   "cell_type": "markdown",
   "metadata": {},
   "source": [
    "#### directory and file hierarchy"
   ]
  },
  {
   "cell_type": "code",
   "execution_count": 288,
   "metadata": {},
   "outputs": [],
   "source": [
    "# directory & file hierarchy\n",
    "analysis_dir = os.getcwd()\n",
    "ref_dir = os.path.join(analysis_dir, 'reference')\n",
    "data_dir = os.path.join(analysis_dir,'tracing')"
   ]
  },
  {
   "cell_type": "markdown",
   "metadata": {},
   "source": [
    "### read in tracing and reference data"
   ]
  },
  {
   "cell_type": "code",
   "execution_count": 291,
   "metadata": {},
   "outputs": [
    {
     "data": {
      "text/plain": [
       "<module 'svg_distance_helpers' from 'svg_distance_helpers.py'>"
      ]
     },
     "execution_count": 291,
     "metadata": {},
     "output_type": "execute_result"
    }
   ],
   "source": [
    "reload(rsh)"
   ]
  },
  {
   "cell_type": "code",
   "execution_count": 303,
   "metadata": {
    "scrolled": true
   },
   "outputs": [
    {
     "name": "stdout",
     "output_type": "stream",
     "text": [
      "Number of pixels marked in the tracing = 205\n",
      "Number of pixels marked in the reference = 332\n"
     ]
    }
   ],
   "source": [
    "reload(rsh)\n",
    "# read in tracing data\n",
    "fpath = os.path.join(data_dir, 'test40.png')\n",
    "tra = rsh.load_preprocess_tracing(fpath, threshold = 150, img_size = 100, invert=True)\n",
    "print 'Number of pixels marked in the tracing = {}'.format(np.sum(tra==255))\n",
    "\n",
    "# read in reference data\n",
    "fpath = os.path.join(ref_dir, 'square_50.png')\n",
    "ref = rsh.load_preprocess_tracing(fpath, threshold = 50, img_size = 100, invert=False)\n",
    "print 'Number of pixels marked in the reference = {}'.format(np.sum(ref==255))"
   ]
  },
  {
   "cell_type": "code",
   "execution_count": 309,
   "metadata": {},
   "outputs": [
    {
     "data": {
      "image/png": "[encoded data removed]",
      "text/plain": [
       "<PIL.Image.Image image mode=L size=100x100 at 0x7FC00034EB50>"
      ]
     },
     "execution_count": 309,
     "metadata": {},
     "output_type": "execute_result"
    }
   ],
   "source": [
    "Image.fromarray(tra)"
   ]
  },
  {
   "cell_type": "code",
   "execution_count": 310,
   "metadata": {},
   "outputs": [
    {
     "data": {
      "image/png": "[encoded data removed]",
      "text/plain": [
       "<PIL.Image.Image image mode=L size=100x100 at 0x7FC0001E3ED0>"
      ]
     },
     "execution_count": 310,
     "metadata": {},
     "output_type": "execute_result"
    }
   ],
   "source": [
    "Image.fromarray(ref)"
   ]
  },
  {
   "cell_type": "code",
   "execution_count": null,
   "metadata": {},
   "outputs": [],
   "source": []
  },
  {
   "cell_type": "markdown",
   "metadata": {},
   "source": [
    "### apply transform and minimize KL between tracing and reference"
   ]
  },
  {
   "cell_type": "code",
   "execution_count": 91,
   "metadata": {},
   "outputs": [
    {
     "name": "stdout",
     "output_type": "stream",
     "text": [
      "epoch 0, loss -0.0346867255867\n",
      "epoch 100, loss -0.0346713513136\n",
      "epoch 200, loss -0.0346637070179\n",
      "epoch 300, loss -0.034676592797\n",
      "epoch 400, loss -0.0346776284277\n",
      "epoch 500, loss -0.0346779488027\n",
      "epoch 600, loss -0.0346665009856\n",
      "epoch 700, loss -0.0346774198115\n",
      "epoch 800, loss -0.0346652790904\n",
      "epoch 900, loss -0.0346713028848\n",
      "Loss: -0.0346756875515   Weights:  Parameter containing:\n",
      "tensor([[ 0.9993,  0.0014],\n",
      "        [ 0.0007,  0.9990]])   Bias: Parameter containing:\n",
      "tensor(1.00000e-04 *\n",
      "       [ 0.4580,  1.2074])\n"
     ]
    }
   ],
   "source": [
    "reload(rsh)\n",
    "loss, final_draw, product, weights, bias = rsh.minimize_error_soft_index(img_ref, img_ref)\n",
    "print('Loss: {}   Weights:  {}   Bias: {}'.format(loss, weights, bias))"
   ]
  },
  {
   "cell_type": "code",
   "execution_count": 73,
   "metadata": {},
   "outputs": [],
   "source": [
    "xform_tracing_array = product.data.numpy()\n",
    "xform_tracing_255 = np.uint8(np.round(xform_tracing_array)*255)\n",
    "xform_tracing_im = Image.fromarray(xform_tracing_255)"
   ]
  },
  {
   "cell_type": "code",
   "execution_count": 75,
   "metadata": {},
   "outputs": [
    {
     "data": {
      "image/png": "[encoded data removed]",
      "text/plain": [
       "<PIL.Image.Image image mode=L size=200x200 at 0x7FC000C84D90>"
      ]
     },
     "execution_count": 75,
     "metadata": {},
     "output_type": "execute_result"
    }
   ],
   "source": [
    "xform_tracing_im.resize((200,200),Image.ANTIALIAS)"
   ]
  },
  {
   "cell_type": "code",
   "execution_count": 82,
   "metadata": {},
   "outputs": [
    {
     "data": {
      "image/png": "[encoded data removed]",
      "text/plain": [
       "<PIL.Image.Image image mode=L size=200x200 at 0x7FC000CCC490>"
      ]
     },
     "execution_count": 82,
     "metadata": {},
     "output_type": "execute_result"
    }
   ],
   "source": [
    "orig_tracing_im = Image.fromarray(np.uint8(img_draw*255))\n",
    "orig_tracing_im.resize((200,200),Image.ANTIALIAS)"
   ]
  },
  {
   "cell_type": "code",
   "execution_count": 85,
   "metadata": {},
   "outputs": [
    {
     "data": {
      "image/png": "[encoded data removed]",
      "text/plain": [
       "<PIL.Image.Image image mode=L size=200x200 at 0x7FC000C023D0>"
      ]
     },
     "execution_count": 85,
     "metadata": {},
     "output_type": "execute_result"
    }
   ],
   "source": [
    "orig_ref_im = Image.fromarray(np.uint8(img_ref*255))\n",
    "orig_ref_im.resize((200,200),Image.ANTIALIAS)"
   ]
  },
  {
   "cell_type": "code",
   "execution_count": null,
   "metadata": {},
   "outputs": [],
   "source": []
  },
  {
   "cell_type": "code",
   "execution_count": null,
   "metadata": {},
   "outputs": [],
   "source": []
  },
  {
   "cell_type": "code",
   "execution_count": null,
   "metadata": {},
   "outputs": [],
   "source": [
    "# reload(rsh)\n",
    "# # ref = np.array([[0,0,0,1,0,0,1], [0,0,0,1,0,0,1], [0,0,0,1,0,0,1], [0,0,0,1,0,0,1]])\n",
    "# # draw = np.array([[0,0,0,1,0,0,1], [0,0,0,1,0,0,1], [0,0,0,1,0,0,1], [0,0,0,1,0,0,1]])\n",
    "\n",
    "# ref = np.array([[0,0,1],[0,0,1],[0,0,0]])\n",
    "# draw = np.array([[0,1,0],[0,1,0],[0,0,0]])\n",
    "\n",
    "# loss, final_draw, product, weights, bias = rsh.minimize_error_soft_index(ref, draw)\n",
    "# print weights\n",
    "# print bias\n",
    "# print product.long()\n",
    "# print final_draw"
   ]
  },
  {
   "cell_type": "code",
   "execution_count": null,
   "metadata": {},
   "outputs": [],
   "source": [
    "kl = nn.KLDivLoss()\n",
    "loss = kl(product, img_ref) * 100"
   ]
  }
 ],
 "metadata": {
  "kernelspec": {
   "display_name": "Python 2",
   "language": "python",
   "name": "python2"
  },
  "language_info": {
   "codemirror_mode": {
    "name": "ipython",
    "version": 2
   },
   "file_extension": ".py",
   "mimetype": "text/x-python",
   "name": "python",
   "nbconvert_exporter": "python",
   "pygments_lexer": "ipython2",
   "version": "2.7.12"
  }
 },
 "nbformat": 4,
 "nbformat_minor": 1
}
