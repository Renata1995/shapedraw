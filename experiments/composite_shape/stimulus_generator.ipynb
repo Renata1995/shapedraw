{
 "cells": [
  {
   "cell_type": "markdown",
   "metadata": {},
   "source": [
    "### Stimulus Generator\n",
    "This program intends to generate stimuli in the experiment1, which analyzes the interaction between parsibility and age. There are two conditions. The experimental condition contains stimuli with complicated arrangement and the control condition contains stimuli with the same set of primitive shapes listed in grids."
   ]
  },
  {
   "cell_type": "code",
   "execution_count": 34,
   "metadata": {},
   "outputs": [],
   "source": [
    "import matplotlib.pyplot as plt\n",
    "from matplotlib.patches import Ellipse, Polygon, Rectangle, Arc\n",
    "import matplotlib as mpl\n",
    "import random\n",
    "import os\n"
   ]
  },
  {
   "cell_type": "markdown",
   "metadata": {},
   "source": [
    "#### Directory and file hierarchy"
   ]
  },
  {
   "cell_type": "code",
   "execution_count": 35,
   "metadata": {},
   "outputs": [],
   "source": [
    "exp_dir = os.getcwd()\n",
    "stm_dir = os.path.join(exp_dir, 'stimulus')"
   ]
  },
  {
   "cell_type": "markdown",
   "metadata": {},
   "source": [
    "#### Initiate variables"
   ]
  },
  {
   "cell_type": "code",
   "execution_count": 37,
   "metadata": {},
   "outputs": [],
   "source": [
    "# canvas\n",
    "img_side = 512  # image size is (img_size, img_size)\n",
    "half_side = int(img_side / 2) # half of the image side\n",
    "orig = (0,0)\n",
    "\n",
    "# shapes\n",
    "num_of_pairs = 1 # the total number of stimuli pairs\n",
    "max_snum, min_snum = 3, 6 # the range of possible numbers of primitives in each composite shape\n",
    "max_scale,min_scale = 1.2, 0.8\n",
    "max_rotation, min_rotation = 360, 0\n",
    "max_move, min_move = int(half_side/4), -int(half_side/4)\n",
    "default_width = half_side * 0.8\n",
    "default_height = half_side * 0.8\n",
    "lw = 3"
   ]
  },
  {
   "cell_type": "markdown",
   "metadata": {},
   "source": [
    "#### Generate stimuli "
   ]
  },
  {
   "cell_type": "code",
   "execution_count": 38,
   "metadata": {},
   "outputs": [
    {
     "data": {
      "image/png": "[encoded data removed]",
      "text/plain": [
       "<matplotlib.figure.Figure at 0x118e72210>"
      ]
     },
     "metadata": {},
     "output_type": "display_data"
    }
   ],
   "source": [
    "for p in range(num_of_pairs):\n",
    "    snum = random.randint(max_snum, min_snum)\n",
    "    fig = plt.figure()\n",
    "\n",
    "    all_shape = [] # a list that contains all shape paths\n",
    "\n",
    "    for i in range(snum):\n",
    "        # randomly select a shape and its scaling, rotation, and translation parameters\n",
    "        shape = random.randint(1,6)\n",
    "        width, height = int(default_width * random.uniform(min_scale, max_scale)), int(default_height * random.uniform(min_scale, max_scale))\n",
    "        rotation = random.randint(min_rotation, max_rotation)\n",
    "        tx, ty = random.randint(min_move, max_move), random.randint(min_move, max_move)\n",
    "        half_scalex, half_scaley = int(width / 2), int(height / 2)\n",
    "\n",
    "        if shape == 1:\n",
    "            shape_path = Ellipse(orig, width, height, fill=False, lw=lw)\n",
    "\n",
    "        elif shape == 2:\n",
    "            upper_left = (int(orig[0]-default_width/2), int(orig[1]-default_height/2))\n",
    "            shape_path = Rectangle(upper_left, width, height, fill=False, lw=lw)\n",
    "\n",
    "        elif shape == 3: # triangle\n",
    "            half_scalex, half_scaley = int(width/2), int(height/2)\n",
    "            p1, p2 = (orig[0]- half_scalex, orig[1]+ half_scaley), (orig[0]+half_scalex, orig[1]+half_scaley)\n",
    "            p3 = (orig[0] + random.randint(0, width),orig[1]-half_scalex)\n",
    "            shape_path = Polygon([p1, p2, p3], fill=False, lw=lw)\n",
    "\n",
    "        elif shape == 4: #line\n",
    "            p1, p2 = (orig[0] - half_scalex, orig[1]-half_scaley), (orig[0] + half_scalex, orig[1] + half_scaley)\n",
    "            shape_path = Polygon([p1, p2], fill=False, lw=lw)\n",
    "\n",
    "        elif shape == 5: # trapezoid\n",
    "            half_width2 = int(default_width * random.uniform(min_scale, max_scale)/2)\n",
    "            move = random.randint(min_move, max_move)\n",
    "            p1, p2 = (orig[0] - half_scalex, orig[1] + half_scaley), (orig[0] + half_scalex, orig[1] + half_scaley)\n",
    "            p3, p4 = (orig[0] + move+ half_width2, orig[1] - half_scalex), (orig[0] + move -half_width2, orig[1] - half_scalex)\n",
    "            shape_path = Polygon([p1, p2, p3, p4], fill=False, lw=lw)\n",
    "\n",
    "        elif shape == 6:\n",
    "            degree = random.randint(60, 270)\n",
    "            shape_path = Arc(orig, width, height, theta1=0, theta2=degree, fill=False, lw=lw)\n",
    "\n",
    "        all_shape.append({'shape': shape_path, 'rotation':rotation, 'tx':tx, 'ty':ty})\n",
    "\n",
    "\n",
    "    # create the stimulus in the experimental condition\n",
    "\n",
    "    ax = plt.subplot(111)\n",
    "    ax.axis('off')\n",
    "    ax.set_xlim(-half_side, half_side)\n",
    "    ax.set_ylim(-half_side, half_side)\n",
    "\n",
    "    for item in all_shape:\n",
    "        transform = mpl.transforms.Affine2D().rotate_deg(item['rotation']).translate(item['tx'], item['ty']) + ax.transData\n",
    "        item['shape'].set_transform(transform)\n",
    "        ax.add_patch(item['shape'])\n",
    "\n",
    "    fig.savefig(os.path.join(stm_dir, 'exp_{:03}'.format(p + 1)))\n",
    "\n",
    "\n",
    "    # create the stimulus in the control condition\n",
    "\n",
    "    img_width = (snum + 1) / 2 * half_side\n",
    "    ax.set_xlim(-img_width, img_width)\n",
    "    ax.set_ylim(-half_side, half_side)\n",
    "\n",
    "    for index, item in enumerate(all_shape):\n",
    "        transform = mpl.transforms.Affine2D().translate(item['tx'], item['ty']) + ax.transData  \n",
    "        item['shape'].set_transform(transform)\n",
    "\n",
    "    fig.savefig(os.path.join(stm_dir, 'control_{:03}'.format(p + 1)))\n"
   ]
  },
  {
   "cell_type": "code",
   "execution_count": null,
   "metadata": {},
   "outputs": [],
   "source": []
  }
 ],
 "metadata": {
  "kernelspec": {
   "display_name": "Python 2",
   "language": "python",
   "name": "python2"
  },
  "language_info": {
   "codemirror_mode": {
    "name": "ipython",
    "version": 2
   },
   "file_extension": ".py",
   "mimetype": "text/x-python",
   "name": "python",
   "nbconvert_exporter": "python",
   "pygments_lexer": "ipython2",
   "version": "2.7.14"
  }
 },
 "nbformat": 4,
 "nbformat_minor": 2
}
